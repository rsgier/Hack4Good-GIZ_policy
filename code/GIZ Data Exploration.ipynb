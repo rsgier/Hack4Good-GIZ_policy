{
 "cells": [
  {
   "cell_type": "markdown",
   "id": "704be11d",
   "metadata": {},
   "source": [
    "### GIZ Initial Data Exploration\n",
    "#### author: Emily Robitschek"
   ]
  },
  {
   "cell_type": "markdown",
   "id": "b0ca671e",
   "metadata": {},
   "source": [
    "Purpose: Before we build any model, we need to be able to take a look at the documents we have.\n",
    "\n",
    "Some resources: \n",
    "\n",
    "#### papers mentioned in project proposal: \n",
    "https://medium.com/fiscalnoteworthy/citing-your-sources-79062248f468\n",
    "https://www2.deloitte.com/us/en/insights/focus/cognitive-technologies/natural-language-processing-examples-in-government-data.html\n",
    "https://documents1.worldbank.org/curated/en/634591516387264234/pdf/WPS8310.pdf\n",
    "\n",
    "#### NLP related links: \n",
    "- https://spacy.io/usage/spacy-101\n",
    "- https://towardsdatascience.com/text-pre-processing-stop-words-removal-using-different-libraries-f20bac19929a\n",
    "- https://arunm8489.medium.com/getting-started-with-natural-language-processing-6e593e349675\n",
    "- https://towardsdatascience.com/natural-language-processing-pipeline-decoded-f97a4da5dbb7"
   ]
  },
  {
   "cell_type": "markdown",
   "id": "a581e19b",
   "metadata": {},
   "source": [
    "### Import libraries"
   ]
  },
  {
   "cell_type": "code",
   "execution_count": 1,
   "id": "6c2d30a9",
   "metadata": {
    "ExecuteTime": {
     "end_time": "2021-10-06T20:28:05.976057Z",
     "start_time": "2021-10-06T20:28:04.349491Z"
    }
   },
   "outputs": [],
   "source": [
    "import os\n",
    "import glob\n",
    "import time\n",
    "\n",
    "import scipy\n",
    "import numpy as np\n",
    "import pandas as pd\n",
    "\n",
    "#set up packages for NLP analysis\n",
    "import contractions\n",
    "import nltk\n",
    "#nltk.download('punkt') \n",
    "#nltk.download('stopwords') #had to also download this\n",
    "import spacy\n",
    "nlp=spacy.load('en_core_web_sm') #or the multi-language one: spacy.load('xx_ent_wiki_sm')"
   ]
  },
  {
   "cell_type": "markdown",
   "id": "334ff084",
   "metadata": {},
   "source": [
    "### Define helper functions for preprocessing"
   ]
  },
  {
   "cell_type": "code",
   "execution_count": 2,
   "id": "1bbb2783",
   "metadata": {
    "ExecuteTime": {
     "end_time": "2021-10-06T20:28:06.001479Z",
     "start_time": "2021-10-06T20:28:05.995275Z"
    }
   },
   "outputs": [],
   "source": [
    "#input data helper functions\n",
    "def list_docs(folder):\n",
    "    \"\"\"Generates a list of document names for reference and tracking. \n",
    "    This command currently extracts the .txt documents from all the subfolders of a parent folder, \n",
    "    and filters out the ones containing source information, which we might not want to use in our analysis.\"\"\"\n",
    "    doc_names = []\n",
    "    doc_paths = []\n",
    "    for root, dirs, files in os.walk(folder):\n",
    "        for file in files:\n",
    "            if file.endswith('.txt') and (file not in ['Source.txt', 'Source Link.txt', 'Source Links.txt']):\n",
    "                doc_names.append(file)\n",
    "                doc_paths.append(os.path.join(root, file))  \n",
    "    return doc_names, doc_paths\n",
    "\n",
    "\n",
    "#NLP related helper functions\n",
    "#used these resources: \n",
    "#https://www.geeksforgeeks.org/nlp-expand-contractions-in-text-processing/)\n",
    "#https://realpython.com/natural-language-processing-spacy-python/#how-to-download-models-and-data\n",
    "\n",
    "def fix_contractions(document): \n",
    "    \"\"\"Switches contractions like can't to cannot so potentially important words/pieces of words are \n",
    "    removed with punctuation removal.\"\"\"\n",
    "    # original contracted text\n",
    "    text = open(document).read()\n",
    "    \n",
    "    #creating an empty list\n",
    "    expanded_words = []    \n",
    "    for word in text.split():\n",
    "        #using contractions.fix to expand the shortened words \n",
    "        expanded_words.append(contractions.fix(word))   \n",
    "\n",
    "    expanded_text = ' '.join(expanded_words)\n",
    "    print('Original text: ', len(text))\n",
    "    print('Expanded_text: ', len(expanded_text))\n",
    "    return expanded_text\n",
    "\n",
    "def is_token_allowed(token):\n",
    "    '''\n",
    "        Only allow valid tokens which are not stop words\n",
    "        and punctuation symbols.\n",
    "    '''\n",
    "    if (not token or not token.text.strip() or\n",
    "        token.is_stop or token.is_punct):\n",
    "        return False\n",
    "    return True\n",
    "\n",
    "def preprocess_token(token):\n",
    "    # Reduce token to its lowercase lemma form\n",
    "    return token.lemma_.strip().lower()"
   ]
  },
  {
   "cell_type": "markdown",
   "id": "44e16b60",
   "metadata": {},
   "source": [
    "### Import data"
   ]
  },
  {
   "cell_type": "code",
   "execution_count": 3,
   "id": "b6accc9e",
   "metadata": {
    "ExecuteTime": {
     "end_time": "2021-10-06T20:28:09.031295Z",
     "start_time": "2021-10-06T20:28:09.026747Z"
    }
   },
   "outputs": [],
   "source": [
    "#keywords (just for testing purposes - from the policy proposal from GIZ)\n",
    "#eventually want to import a file with keywords\n",
    "policy = [\"policy\", \"integrate\", \"implement\", \"committee\", \"consultation\"]\n",
    "food = [\"nutritions\", \"diets\", \"farm\", \"agriculture\", \"ecology\"]\n",
    "ndc_national_adaption_plan = [\"nap\", \"sector plan\", \"nccrp\", \"vulnerable sector\", \n",
    "                              \"geographic vulnerability\"]\n",
    "ndc_climate_change = [\"adaption\", \"program\", \"projects\", \"resilience\", \"institution\",\n",
    "                      \"capacity\", \"response\", \"budget\", \"reprioritisation\", \"development\", \n",
    "                      \"planner\", \"regulator\", \"practitioners\", \"geographical\", \n",
    "                      \"circumstances\", \"land\", \"scheme\", \"authorisation\", \"system\", \n",
    "                      \"spluma\"]\n",
    "ndc_early_warning = [\"system\", \"vulnerability\", \"needs\", \"assessment\", \"network\", \"weather\",\n",
    "   \"earth\", \"observation\", \"academic\", \"community\"]"
   ]
  },
  {
   "cell_type": "code",
   "execution_count": 4,
   "id": "9df47609",
   "metadata": {
    "ExecuteTime": {
     "end_time": "2021-10-06T20:28:10.225692Z",
     "start_time": "2021-10-06T20:28:10.210481Z"
    }
   },
   "outputs": [
    {
     "name": "stdout",
     "output_type": "stream",
     "text": [
      "Some of the policy docs include:  ['InSessionSpecialEditionBudget2021.pdf.ocr.txt', 'InSessionVol2Issue10.pdf.ocr.txt', 'InSessionSpecialEditionBudget2021.txt', 'InSessionVol2Issue10.txt', 'InSessionVol2Issue11.txt', 'InSessionSpecialEdition2021.txt', 'InSessionSpecialEdition2021.pdf.ocr.txt', 'InSessionVol2Issue11.pdf.ocr.txt', '2nd National Biodiversity Strategy Action Plan 2015-2025.pdf_ocr.txt', 'Climate_Change_Bill (2018).txt']\n"
     ]
    }
   ],
   "source": [
    "#here is the general folder with the different types of policy documents\n",
    "policy_doc_folder = '/Users/emilyrobitschek/git/giz-policy_tracking_docs/SouthAfrica/Data' #ultimately need to remove this path\n",
    "policy_doc_names, policy_doc_paths = list_docs(policy_doc_folder)\n",
    "print(\"Some of the policy docs include: \", policy_doc_names[:10])\n",
    "\n",
    "#If want to preserve names and paths of the documents and make them easily searchable, \n",
    "#it might be useful to make a dictionary (this could also easily be converted to a dataframe \n",
    "#to add more summary information about the document for instance)\n",
    "\n",
    "policy_doc_dict = {'policy_doc_names': policy_doc_names, 'policy_doc_paths': policy_doc_paths}\n",
    "policy_doc_df = pd.DataFrame(data=policy_doc_dict, dtype='string')\n",
    "policy_doc_df.index = policy_doc_df['policy_doc_names']\n",
    "policy_doc_df.head()\n",
    "\n",
    "##lets take a look at the document from South Africa used in the example in the proposal first:\n",
    "test_doc_name = '2nd National Biodiversity Strategy Action Plan 2015-2025.pdf_ocr.txt'\n",
    "##lets try with another document\n",
    "test_doc_name = 'InSessionSpecialEditionBudget2021.pdf.ocr.txt'\n",
    "test_doc_path = policy_doc_df.loc[test_doc_name]['policy_doc_paths']"
   ]
  },
  {
   "cell_type": "markdown",
   "id": "d57d7cae",
   "metadata": {},
   "source": [
    "### Preprocess data"
   ]
  },
  {
   "cell_type": "code",
   "execution_count": 13,
   "id": "2fdd64a8",
   "metadata": {
    "ExecuteTime": {
     "end_time": "2021-10-06T20:31:44.478826Z",
     "start_time": "2021-10-06T20:31:43.703127Z"
    }
   },
   "outputs": [
    {
     "name": "stdout",
     "output_type": "stream",
     "text": [
      "Original text:  43521\n",
      "Expanded_text:  42826\n",
      "These are some of the unfiltered tokens:  [Oo, Official, newspaper, of, the, Parliament, of, the, Republic, of, South, Africa, @, Special, budget, edition, IMSeSS, ©, ), PARLIAMENT, OF, THE, REPUBLIC, OF, SOUTH, AFRICA, Following, up, on, our, commitments, :, Making, our, future, work, better, Zee, INSESSION, NEWS, The, Bills, are, :, 1, ., 2021, Appropriation, Bill, 2] \n",
      "\n",
      "Oo Official newspaper of the Parliament of the Republic of South Africa @ Special budget edition IMSeSS ©) PARLIAMENT OF THE REPUBLIC OF SOUTH AFRICA\n",
      "Following up on our commitments: Making our future work better Zee INSESSION NEWS\n",
      "The Bills are: 1. 2021\n",
      "Appropriation Bill 2.\n",
      "2021 Special Appropriation Bill 3. 2021 Division of Revenue Bill 4.\n",
      "The Budget Review 5.\n",
      "The Estimates of National Expenditure (ENE)\n",
      "Last year, the Minister said, the government had outlined a strategy for South Africa to become a winning country, and since then the government has mourned the passing of nearly 50 000 people as a result of the Covid-19 pandemic.\n",
      "“The damage caused by Covid-19 runs deep and we share in the collective pain of many South Africans who have lost their jobs,” said Mr Mboweni.\n",
      "All this notwithstanding, he said, we are not without hope.\n"
     ]
    }
   ],
   "source": [
    "#remove contracted words and tokenize the document\n",
    "expanded_text_doc = nlp(fix_contractions(test_doc_path))\n",
    "\n",
    "#extract list of word tokens\n",
    "tokens = [token for token in expanded_text_doc]\n",
    "print('These are some of the unfiltered tokens: ', tokens[0:50], '\\n')\n",
    "\n",
    "#find sentences\n",
    "sentences = list(expanded_text_doc.sents)\n",
    "for sentence in sentences[:10]:\n",
    "    print(sentence)"
   ]
  },
  {
   "cell_type": "markdown",
   "id": "7c72677c",
   "metadata": {},
   "source": [
    "#### The token object: \n",
    "The tokens have all sorts of useful information association with them, for instance their positions (in token.idx) which we can use these later to define windows. See below for example."
   ]
  },
  {
   "cell_type": "code",
   "execution_count": 14,
   "id": "f6a514aa",
   "metadata": {
    "ExecuteTime": {
     "end_time": "2021-10-06T20:33:27.576315Z",
     "start_time": "2021-10-06T20:33:27.571139Z"
    },
    "scrolled": true
   },
   "outputs": [
    {
     "name": "stdout",
     "output_type": "stream",
     "text": [
      "Oo 0\n",
      "Official 3\n",
      "newspaper 12\n",
      "of 22\n",
      "the 25\n",
      "Parliament 29\n",
      "of 40\n",
      "the 43\n",
      "Republic 47\n",
      "of 56\n",
      "South 59\n",
      "Africa 65\n",
      "@ 72\n",
      "Special 74\n",
      "budget 82\n",
      "edition 89\n",
      "IMSeSS 97\n",
      "© 104\n",
      ") 105\n",
      "PARLIAMENT 107\n"
     ]
    }
   ],
   "source": [
    "for token in expanded_text_doc[:20]:\n",
    "    print (token, token.idx)"
   ]
  },
  {
   "cell_type": "markdown",
   "id": "9b2a5c98",
   "metadata": {},
   "source": [
    "We can see from above that the tokens need to be filtered and it might be useful if the words are all made lowercase and the words are lemmatized so the different forms of a word are recognized as the same thing"
   ]
  },
  {
   "cell_type": "code",
   "execution_count": 15,
   "id": "60e2e270",
   "metadata": {
    "ExecuteTime": {
     "end_time": "2021-10-06T20:34:51.013908Z",
     "start_time": "2021-10-06T20:34:50.610709Z"
    }
   },
   "outputs": [
    {
     "name": "stdout",
     "output_type": "stream",
     "text": [
      "These are some of the filtered tokens:  receive speak limit increase taxation agree tax increase keep minimum stabilise public finance choose introduce r40 billion tax measure initially propose october medium term budget policy statement add heme pe economie outlook improve say minister mbowen1 mr tito mboweni global economic growth expect rebound 5.5 2021 moderate slightly 4.2 2022 spur expect rollout covid-19 vaccine additional policy initiative china expect grow 8.1 2021 india achieve growth rate 11.5 2021 sub saharan africa forecast grow 3.2 context mr mboweni say south african economy expect rebound 3.3 year follow 7.2 contraction 2020 average 1.9 outer year minister hopeful government make meaningful progress\n"
     ]
    }
   ],
   "source": [
    "#filter tokens, and make lowercase and lemmatize (with preprocess function): \n",
    "filtered_text_list = [preprocess_token(token) for token in \n",
    "                   expanded_text_doc if is_token_allowed(token)]\n",
    "\n",
    "filtered_text = ' '.join(filtered_text_list)\n",
    "filtered_tokens = nlp(filtered_text)\n",
    "\n",
    "#complete_filtered_tokens\n",
    "print('These are some of the filtered tokens: ', filtered_tokens[200:300])\n",
    "\n",
    "#need to filter out super weird non words and may want to filter numbers\n",
    "#may want to find some important accronyms too"
   ]
  },
  {
   "cell_type": "markdown",
   "id": "1ddeddce",
   "metadata": {},
   "source": [
    "### Find most common (and unique) words"
   ]
  },
  {
   "cell_type": "code",
   "execution_count": 16,
   "id": "a9bb1aa3",
   "metadata": {
    "ExecuteTime": {
     "end_time": "2021-10-06T20:34:58.326018Z",
     "start_time": "2021-10-06T20:34:58.319286Z"
    }
   },
   "outputs": [
    {
     "name": "stdout",
     "output_type": "stream",
     "text": [
      "[('budget', 52), ('government', 48), ('parliament', 42), ('bn', 42), ('say', 41), ('committee', 40), ('national', 39), ('billion', 38), ('year', 34), ('south', 30), ('2021', 30), ('tax', 29), ('service', 28), ('public', 28), ('bill', 27), ('minister', 24), ('mr', 24), ('treasury', 24), ('revenue', 23), ('increase', 23), ('economic', 23), ('fiscal', 22), ('framework', 22), ('development', 22), ('mboweni', 21), ('fund', 20), ('economy', 19), ('sector', 19), ('social', 19), ('expenditure', 18)]\n"
     ]
    }
   ],
   "source": [
    "from collections import Counter\n",
    "# Remove stop words and punctuation symbols\n",
    "words = [token.text for token in filtered_tokens]\n",
    "word_freq = Counter(words)\n",
    "# 5 commonly occurring words with their frequencies\n",
    "common_words = word_freq.most_common(30)\n",
    "print(common_words)\n",
    "\n",
    "# Unique words\n",
    "#unique_words = [word for (word, freq) in word_freq.items() if freq == 1]\n",
    "#print (unique_words)"
   ]
  },
  {
   "cell_type": "code",
   "execution_count": 17,
   "id": "431501fb",
   "metadata": {
    "ExecuteTime": {
     "end_time": "2021-10-06T20:35:18.737726Z",
     "start_time": "2021-10-06T20:35:18.732893Z"
    }
   },
   "outputs": [
    {
     "name": "stdout",
     "output_type": "stream",
     "text": [
      "This document has the following number of words related to climate change NDCs:  96 \n",
      "\n",
      "This document has the following number of words related to food:  3\n"
     ]
    }
   ],
   "source": [
    "word_freq['environmental']\n",
    "ndc_climate_change_scores = []\n",
    "for word in ndc_climate_change:\n",
    "    #print(word, word_freq[word])\n",
    "    ndc_climate_change_scores.append(word_freq[word])\n",
    "print(\"This document has the following number of words related to climate change NDCs: \",\n",
    "      sum(ndc_climate_change_scores), '\\n')\n",
    "\n",
    "food_scores = []\n",
    "for word in food:\n",
    "    #print(word, word_freq[word])\n",
    "    food_scores.append(word_freq[word])\n",
    "print(\"This document has the following number of words related to food: \",\n",
    "      sum(food_scores))"
   ]
  },
  {
   "cell_type": "markdown",
   "id": "ada47c6b",
   "metadata": {},
   "source": [
    "### Make some plots of the NDC/Thematic key words"
   ]
  },
  {
   "cell_type": "code",
   "execution_count": 20,
   "id": "dfcf73db",
   "metadata": {
    "ExecuteTime": {
     "end_time": "2021-10-06T20:35:35.673648Z",
     "start_time": "2021-10-06T20:35:35.364760Z"
    }
   },
   "outputs": [
    {
     "data": {
      "image/png": "[encoded data removed]",
      "text/plain": [
       "<Figure size 144x288 with 1 Axes>"
      ]
     },
     "metadata": {},
     "output_type": "display_data"
    },
    {
     "data": {
      "image/png": "[encoded data removed]",
      "text/plain": [
       "<Figure size 576x288 with 1 Axes>"
      ]
     },
     "metadata": {},
     "output_type": "display_data"
    }
   ],
   "source": [
    "#just to test - need to modularise/make more reproducible and tailor output to be useful across documents\n",
    "#could also link this back to the df of the documents to output a table with some summary metrics for keywords \n",
    "#in eaach document of interest\n",
    "\n",
    "import matplotlib.pyplot as plt\n",
    "plt.style.use('ggplot')\n",
    "\n",
    "x = food\n",
    "y = food_scores\n",
    "x_pos = [i for i, _ in enumerate(x)]\n",
    "\n",
    "plt.rcParams[\"figure.figsize\"] = (2,4)\n",
    "plt.bar(x, y)\n",
    "plt.xlabel(\"Food Words\")\n",
    "plt.ylabel(\"Frequency\")\n",
    "plt.title(\"Food words in the documents\")\n",
    "plt.xticks(x_pos, x, rotation=90)\n",
    "plt.show()\n",
    "\n",
    "x = ndc_climate_change\n",
    "y = ndc_climate_change_scores\n",
    "x_pos = [i for i, _ in enumerate(x)]\n",
    "\n",
    "plt.rcParams[\"figure.figsize\"] = (8,4)\n",
    "plt.bar(x, y, color='green') \n",
    "plt.xlabel(\"NDC Climate Change Words\")\n",
    "plt.ylabel(\"Frequency\")\n",
    "plt.title(\"NDC Climate Change words in the document\")\n",
    "plt.xticks(x_pos, x, rotation=90)\n",
    "plt.show()"
   ]
  },
  {
   "cell_type": "markdown",
   "id": "80c7511c",
   "metadata": {},
   "source": [
    "### Parts of speech tagging"
   ]
  },
  {
   "cell_type": "code",
   "execution_count": 21,
   "id": "b1b40fc0",
   "metadata": {
    "ExecuteTime": {
     "end_time": "2021-10-06T20:35:46.099171Z",
     "start_time": "2021-10-06T20:35:46.086172Z"
    }
   },
   "outputs": [
    {
     "name": "stdout",
     "output_type": "stream",
     "text": [
      "oo UH INTJ interjection\n",
      "official JJ ADJ adjective (English), other noun-modifier (Chinese)\n",
      "newspaper NN NOUN noun, singular or mass\n",
      "parliament NNP PROPN noun, proper singular\n",
      "republic NNP PROPN noun, proper singular\n",
      "south NNP PROPN noun, proper singular\n",
      "africa NNP PROPN noun, proper singular\n",
      "special NNP PROPN noun, proper singular\n",
      "budget NNP PROPN noun, proper singular\n",
      "edition NN NOUN noun, singular or mass\n",
      "imsess NN NOUN noun, singular or mass\n",
      "© NNP PROPN noun, proper singular\n",
      "parliament NNP PROPN noun, proper singular\n",
      "republic NNP PROPN noun, proper singular\n",
      "south NNP PROPN noun, proper singular\n",
      "africa NNP PROPN noun, proper singular\n",
      "follow VBP VERB verb, non-3rd person singular present\n",
      "commitment NN NOUN noun, singular or mass\n",
      "make VBP VERB verb, non-3rd person singular present\n",
      "future JJ ADJ adjective (English), other noun-modifier (Chinese)\n",
      "work NN NOUN noun, singular or mass\n",
      "well UH INTJ interjection\n",
      "zee UH INTJ interjection\n",
      "insession NN NOUN noun, singular or mass\n",
      "news NN NOUN noun, singular or mass\n",
      "bills NNS NOUN noun, plural\n",
      "1 CD NUM cardinal number\n",
      "2021 CD NUM cardinal number\n",
      "appropriation NN NOUN noun, singular or mass\n",
      "bill NN NOUN noun, singular or mass\n",
      "2 CD NUM cardinal number\n",
      "2021 CD NUM cardinal number\n",
      "special JJ ADJ adjective (English), other noun-modifier (Chinese)\n",
      "appropriation NN NOUN noun, singular or mass\n",
      "bill NN NOUN noun, singular or mass\n",
      "3 CD NUM cardinal number\n",
      "2021 CD NUM cardinal number\n",
      "division NN NOUN noun, singular or mass\n",
      "revenue NN NOUN noun, singular or mass\n",
      "bill NN NOUN noun, singular or mass\n",
      "4 CD NUM cardinal number\n",
      "budget NN NOUN noun, singular or mass\n",
      "review NNP PROPN noun, proper singular\n",
      "5 CD NUM cardinal number\n",
      "estimate NN NOUN noun, singular or mass\n",
      "national JJ ADJ adjective (English), other noun-modifier (Chinese)\n",
      "expenditure NN NOUN noun, singular or mass\n",
      "ene NN NOUN noun, singular or mass\n",
      "year NN NOUN noun, singular or mass\n",
      "minister NNP PROPN noun, proper singular\n",
      "\n",
      "\n",
      "some nouns spacy called in the document include: \n",
      " [newspaper, edition, imsess, commitment, work, insession, news, bills, appropriation, bill, appropriation, bill, division, revenue, bill, budget, estimate, expenditure, ene, year, government, outline, strategy, country, government, mourn, people, damage, cause, share, pain, africans, job, say, hope, archbishop, desmond, tutu, light, darkness, bravery, sacrifice, frontline, worker, life, salute, service, worker, line, fight] \n",
      "\n",
      "some adjectives spacy called in the document include: \n",
      " [official, future, special, national, pandemic, deep, collective, south, emeritus, south, able, fearless, south, african, essential, stand, south, human, patriotic, future, hopeful, fiscal, public, short-, public, medium-, public, minimum, stabilise, public, medium, heme, global, economic, moderate, additional, south, african, outer, meaningful, structural, economic, structural, structural, economic, demonstrable, structural, hard, relevant, lower]\n"
     ]
    }
   ],
   "source": [
    "for token in filtered_tokens[:50]:\n",
    "    print(token, token.tag_, token.pos_, spacy.explain(token.tag_))\n",
    "print('\\n')\n",
    "    \n",
    "nouns = []\n",
    "adjectives = []\n",
    "for token in filtered_tokens:\n",
    "    if token.pos_ == 'NOUN':\n",
    "        nouns.append(token)\n",
    "    if token.pos_ == 'ADJ':\n",
    "        adjectives.append(token)\n",
    "\n",
    "print('some nouns spacy called in the document include:', '\\n', nouns[:50], '\\n')\n",
    "print('some adjectives spacy called in the document include:', '\\n', adjectives[:50])"
   ]
  },
  {
   "cell_type": "code",
   "execution_count": null,
   "id": "7fc72129",
   "metadata": {},
   "outputs": [],
   "source": []
  },
  {
   "cell_type": "code",
   "execution_count": null,
   "id": "773f4581",
   "metadata": {},
   "outputs": [],
   "source": []
  }
 ],
 "metadata": {
  "kernelspec": {
   "display_name": "Python 3 (ipykernel)",
   "language": "python",
   "name": "python3"
  },
  "language_info": {
   "codemirror_mode": {
    "name": "ipython",
    "version": 3
   },
   "file_extension": ".py",
   "mimetype": "text/x-python",
   "name": "python",
   "nbconvert_exporter": "python",
   "pygments_lexer": "ipython3",
   "version": "3.9.7"
  }
 },
 "nbformat": 4,
 "nbformat_minor": 5
}
