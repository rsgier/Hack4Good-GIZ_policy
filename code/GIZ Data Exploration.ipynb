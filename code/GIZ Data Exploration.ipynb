{
 "cells": [
  {
   "cell_type": "markdown",
   "id": "704be11d",
   "metadata": {},
   "source": [
    "### GIZ Initial Data Exploration\n",
    "#### author: Emily Robitschek"
   ]
  },
  {
   "cell_type": "markdown",
   "id": "b0ca671e",
   "metadata": {},
   "source": [
    "Purpose: Before we build any model, we need to be able to take a look at the documents we have.\n",
    "\n",
    "Some resources: \n",
    "\n",
    "#### papers mentioned in project proposal: \n",
    "https://medium.com/fiscalnoteworthy/citing-your-sources-79062248f468\n",
    "https://www2.deloitte.com/us/en/insights/focus/cognitive-technologies/natural-language-processing-examples-in-government-data.html\n",
    "https://documents1.worldbank.org/curated/en/634591516387264234/pdf/WPS8310.pdf\n",
    "\n",
    "#### NLP related links: \n",
    "- https://spacy.io/usage/spacy-101\n",
    "- https://towardsdatascience.com/text-pre-processing-stop-words-removal-using-different-libraries-f20bac19929a\n",
    "- https://arunm8489.medium.com/getting-started-with-natural-language-processing-6e593e349675\n",
    "- https://towardsdatascience.com/natural-language-processing-pipeline-decoded-f97a4da5dbb7"
   ]
  },
  {
   "cell_type": "markdown",
   "id": "a581e19b",
   "metadata": {},
   "source": [
    "### Import libraries"
   ]
  },
  {
   "cell_type": "code",
   "execution_count": 1,
   "id": "6c2d30a9",
   "metadata": {
    "ExecuteTime": {
     "end_time": "2021-10-09T11:56:34.407793Z",
     "start_time": "2021-10-09T11:56:32.963781Z"
    }
   },
   "outputs": [],
   "source": [
    "import os\n",
    "import glob\n",
    "import time\n",
    "import json\n",
    "\n",
    "import scipy\n",
    "import numpy as np\n",
    "import pandas as pd\n",
    "\n",
    "#set up packages for processing data types and for NLP analysis\n",
    "from collections import OrderedDict\n",
    "import contractions\n",
    "import spacy\n",
    "nlp=spacy.load('en_core_web_sm') #or the multi-language one: spacy.load('xx_ent_wiki_sm')\n",
    "\n",
    "#graphing/visualization packages: \n",
    "import matplotlib.pyplot as plt\n",
    "plt.style.use('ggplot')"
   ]
  },
  {
   "cell_type": "markdown",
   "id": "334ff084",
   "metadata": {},
   "source": [
    "### Define helper functions for preprocessing"
   ]
  },
  {
   "cell_type": "code",
   "execution_count": 2,
   "id": "1bbb2783",
   "metadata": {
    "ExecuteTime": {
     "end_time": "2021-10-09T11:56:34.426792Z",
     "start_time": "2021-10-09T11:56:34.409664Z"
    }
   },
   "outputs": [],
   "source": [
    "#input data helper functions\n",
    "def get_docs_df_from_folder(policy_doc_folder):\n",
    "    \"\"\"\n",
    "    Takes in a folder (can also be with different subfolders) with policy-related text documents \n",
    "    and gathers txt docs to analyze from those folders and makes a dataframe of their names and paths.\n",
    "    \n",
    "    NOTE: If want to preserve names and paths of the documents and make them easily searchable, it might be useful \n",
    "    to export the dictionary/keep that as well to add more summary information about the document for instance. \n",
    "    \"\"\"\n",
    "    #get the paths and file names\n",
    "    policy_doc_names, policy_doc_paths = list_docs(policy_doc_folder)\n",
    "    #print the number of docs and the names of some of them \n",
    "    print((\"There are %d policy docs\" % (len(policy_doc_names))),\n",
    "          \"Some of the policy docs include: \", policy_doc_names[:10])\n",
    "\n",
    "    policy_doc_dict = {'policy_doc_names': policy_doc_names, 'policy_doc_paths': policy_doc_paths}\n",
    "    policy_doc_df = pd.DataFrame(data=policy_doc_dict, dtype='string')\n",
    "    #set index as policy doc names (can clean up/add other column with a neater name without the .txt pieces later)\n",
    "    policy_doc_df['policy_doc_name_clean'] = (policy_doc_df['policy_doc_names']\n",
    "                                              .apply(lambda x: x.split('.txt')[0].split('.pdf.ocr')[0]))\n",
    "    policy_doc_df.index = policy_doc_df['policy_doc_names']\n",
    "    del policy_doc_df['policy_doc_names'] #remove duplicate column\n",
    "    return policy_doc_df\n",
    "\n",
    "def list_docs(folder):\n",
    "    \"\"\"\n",
    "    Generates a list of document names for reference and tracking. \n",
    "    This command currently extracts the .txt documents from all the subfolders of a parent folder, \n",
    "    and filters out the ones containing source information, which we might not want to use in our analysis.\n",
    "    \"\"\"\n",
    "    doc_names = []\n",
    "    doc_paths = []\n",
    "    for root, dirs, files in os.walk(folder):\n",
    "        for file in files:\n",
    "            if file.endswith('.txt') and (file not in ['Source.txt', 'Source Link.txt', 'Source Links.txt']):\n",
    "                doc_names.append(file)\n",
    "                doc_paths.append(os.path.join(root, file))  \n",
    "    return doc_names, doc_paths\n",
    "\n",
    "#NLP related helper functions\n",
    "#used these resources: \n",
    "#https://www.geeksforgeeks.org/nlp-expand-contractions-in-text-processing/)\n",
    "#https://realpython.com/natural-language-processing-spacy-python/#how-to-download-models-and-data\n",
    "\n",
    "def fix_contractions(document): \n",
    "    \"\"\"\n",
    "    Switches contractions like can't to cannot so potentially important words/pieces of words are \n",
    "    removed with punctuation removal.\n",
    "    \"\"\"\n",
    "    # original contracted text\n",
    "    text = open(document).read()\n",
    "    \n",
    "    #creating an empty list\n",
    "    expanded_words = []    \n",
    "    for word in text.split():\n",
    "        #using contractions.fix to expand the shortened words \n",
    "        expanded_words.append(contractions.fix(word))   \n",
    "\n",
    "    expanded_text = ' '.join(expanded_words)\n",
    "    print('Original text: ', len(text))\n",
    "    print('Expanded_text: ', len(expanded_text))\n",
    "    return expanded_text\n",
    "\n",
    "def is_token_allowed(token):\n",
    "    '''\n",
    "        Only allow valid tokens which are not stop words\n",
    "        and punctuation symbols.\n",
    "    '''\n",
    "    if (not token or not token.text.strip() or\n",
    "        token.is_stop or token.is_punct):\n",
    "        return False\n",
    "    return True\n",
    "\n",
    "def preprocess_token(token):\n",
    "    # Reduce token to its lowercase lemma form\n",
    "    return token.lemma_.strip().lower()\n",
    "\n",
    "def preprocess_doc(doc_path): \n",
    "    \"\"\"\n",
    "    Applies NLP framework to a document returns the word tokens and sentence tokens.\n",
    "    NOTE: may want to also return sentences and other objects too depending on the use case\n",
    "    \"\"\"\n",
    "    #remove contracted words and tokenize the document\n",
    "    tokens = nlp(fix_contractions(doc_path))\n",
    "    \n",
    "    #extract list of word tokens\n",
    "    token_list = [token for token in tokens]\n",
    "    #print('These are some of the unfiltered tokens: ', tokens[0:50], '\\n')\n",
    "\n",
    "    #find sentences\n",
    "    sentences = list(tokens.sents)\n",
    "    for sentence in sentences[:10]:\n",
    "        print(sentence)\n",
    "    return tokens, token_list, sentences\n",
    "\n",
    "def filter_modify_tokens(tokens):\n",
    "    \"\"\"\n",
    "    This function takes a collection of tokens from the nlp() function applied to text \n",
    "    and generates a list of filtered tokens that we then convert into a filtered text and \n",
    "    collection of filtered tokens.\n",
    "    \n",
    "    NOTE: still need to filter out super weird non words and may want to filter numbers and\n",
    "    may want to find some important accronyms too (so maybe modify this function later)\n",
    "    \"\"\"\n",
    "    #filter tokens, and make lowercase and lemmatize (with preprocess function): \n",
    "    filtered_text_list = [preprocess_token(token) for token in \n",
    "                       tokens if is_token_allowed(token)]\n",
    "\n",
    "    filtered_text = ' '.join(filtered_text_list)\n",
    "    filtered_tokens = nlp(filtered_text)\n",
    "    return filtered_tokens\n",
    "\n",
    "def make_filtered_tokens_from_ndc(ndc_dict): \n",
    "    \"\"\"\n",
    "    Takes an NDC dictionary and processes the topics and keywords for searching within the documents, \n",
    "    assuming we are searching for individual words and to process the words in the same way are processing \n",
    "    the document text to have the best chance of finding keywords in the documents.\n",
    "    \"\"\"\n",
    "    ndc_dict_processed = dict()\n",
    "    unique_keywords = []\n",
    "    for i in range(0, len(list(ndc_dict.keys()))):\n",
    "        topic = list(ndc_dict.keys())[i]\n",
    "        keywords = list(ndc_dict.values())[i]\n",
    "        print(('Original words from the NDC related to %s : ' % (topic)), \n",
    "              len(keywords), keywords, '/n')\n",
    "        #add keywords from topic (key) to list of values and tokenize those values: \n",
    "        keywords.append(topic)\n",
    "        keywords_tokens = nlp(' '.join(keywords))\n",
    "        #generate a filtered list of keywords using the same token preprocessing we use in the documents\n",
    "        keywords_tokens_list = [str(token) for token in filter_modify_tokens(keywords_tokens)]\n",
    "        #filter non-unique words generated by splitting terms with shared words (e.g. two types of 'plan')\n",
    "        unique_keywords = list(OrderedDict.fromkeys(keywords_tokens_list))\n",
    "        print(('Filtered words from the NDC related to %s : ' % (topic)),\n",
    "              len(unique_keywords), unique_keywords, '/n')\n",
    "        ndc_dict_processed[topic] = unique_keywords\n",
    "    return ndc_dict_processed\n",
    "\n",
    "def calculate_word_freq_ndc(word_freq, ndc_dict, key): \n",
    "    \"\"\"\n",
    "    Input: The word frequencies calculated by the Counter for the whole document (word_freq), \n",
    "    the dictionary of ndc key words organized by topic (ndc_dict), and the ndc topic (key).\n",
    "    Output: Pull out the word frequencies (word_scores) for each of the NDC words associated \n",
    "    with a topic (words) for graphing.\n",
    "    \"\"\"\n",
    "    words = ndc_dict[key]\n",
    "    word_scores = []\n",
    "    for word in words: \n",
    "        word_scores.append(word_freq[word])\n",
    "    print((\"This document has the following number of words related to %s NDCs: \" % (key)),\n",
    "            sum(word_scores), '\\n')\n",
    "    return words, word_scores \n",
    "\n",
    "def graph_word_freq_ndc(words, word_scores, ndc_name, doc_name, output_folder):\n",
    "    \"\"\"\n",
    "    Input: The word frequencies (word_scores) for the NDC words associated \n",
    "    with a topic (words) for graphing, including the associated NDC topic (ndc_name) and \n",
    "    document name (doc_name) to include in graph and file name for output to the output_folder. \n",
    "    Output: Bar graph in the output folder of word frequencies for the NDC words associated \n",
    "    with a topic/theme.\n",
    "    \"\"\"\n",
    "    #input data\n",
    "    x=words\n",
    "    y=word_scores\n",
    "    x_pos = [i for i, _ in enumerate(x)]\n",
    "    \n",
    "    #set plot parameters\n",
    "    plt.rcParams[\"figure.figsize\"] = ((len(words)/3),4)\n",
    "    plt.bar(x, y, color='mediumseagreen')\n",
    "    plt.xlabel(\"NDC words: %s\" % (ndc_name))\n",
    "    plt.ylabel(\"Frequency\")\n",
    "    title = (\"%s NDC words in: %s\" % (ndc_name, doc_name))\n",
    "    plt.title(title)\n",
    "    plt.xticks(x_pos, x, rotation=90)\n",
    "    plt.savefig((graphs_folder + 'bar_chart_%s.pdf' % (title)), \n",
    "                bbox_inches='tight')\n",
    "    plt.show()"
   ]
  },
  {
   "cell_type": "markdown",
   "id": "44e16b60",
   "metadata": {},
   "source": [
    "### Import data: Keywords from NDCs"
   ]
  },
  {
   "cell_type": "code",
   "execution_count": 3,
   "id": "b6accc9e",
   "metadata": {
    "ExecuteTime": {
     "end_time": "2021-10-09T11:56:34.473328Z",
     "start_time": "2021-10-09T11:56:34.428236Z"
    }
   },
   "outputs": [
    {
     "name": "stdout",
     "output_type": "stream",
     "text": [
      "Original words from the NDC related to national adaption plan :  5 ['nap', 'sector plan', 'nccrp', 'vulnerable sector', 'geographic vulnerability'] /n\n",
      "Filtered words from the NDC related to national adaption plan :  9 ['nap', 'sector', 'plan', 'nccrp', 'vulnerable', 'geographic', 'vulnerability', 'national', 'adaption'] /n\n",
      "Original words from the NDC related to climate change :  14 ['adaption program', 'adaption projects', 'resilience', 'institutional capacity', 'response', 'budget reprioritisation', 'development', 'planner', 'regulator practitioners', 'geographical circumstances', 'land use scheme', 'authorisation system', 'spatial land use management act', 'spluma'] /n\n",
      "Filtered words from the NDC related to climate change :  26 ['adaption', 'program', 'project', 'resilience', 'institutional', 'capacity', 'response', 'budget', 'reprioritisation', 'development', 'planner', 'regulator', 'practitioner', 'geographical', 'circumstance', 'land', 'use', 'scheme', 'authorisation', 'system', 'spatial', 'management', 'act', 'spluma', 'climate', 'change'] /n\n",
      "Original words from the NDC related to early warning :  7 ['system', 'vulnerability', 'needs assessment', 'network', 'weather services', 'earth observation', 'academic community'] /n\n",
      "Filtered words from the NDC related to early warning :  13 ['system', 'vulnerability', 'need', 'assessment', 'network', 'weather', 'service', 'earth', 'observation', 'academic', 'community', 'early', 'warn'] /n\n"
     ]
    }
   ],
   "source": [
    "#keywords (just for testing purposes - from the policy proposal from GIZ)\n",
    "policy = [\"policy\", \"integrate\", \"implement\", \"committee\", \"consultation\"]\n",
    "food = [\"nutritions\", \"diets\", \"farm\", \"agriculture\", \"ecology\"]\n",
    "ndc_national_adaption_plan = [\"nap\", \"sector plan\", \"nccrp\", \"vulnerable sector\", \n",
    "                              \"geographic vulnerability\"]\n",
    "ndc_climate_change = [\"adaption\", \"program\", \"projects\", \"resilience\", \"institution\",\n",
    "                      \"capacity\", \"response\", \"budget\", \"reprioritisation\", \"development\", \n",
    "                      \"planner\", \"regulator\", \"practitioners\", \"geographical\", \n",
    "                      \"circumstances\", \"land\", \"scheme\", \"authorisation\", \"system\", \n",
    "                      \"spluma\"]\n",
    "ndc_early_warning = [\"system\", \"vulnerability\", \"needs\", \"assessment\", \"network\", \"weather\",\n",
    "   \"earth\", \"observation\", \"academic\", \"community\"]\n",
    "\n",
    "#keywrods from json file\n",
    "json_keywords_SA_file = '../ndc_keywords/ndc_south_africa.json'\n",
    "keywords_SA_dict = None\n",
    "with open(json_keywords_SA_file, 'r') as f: \n",
    "    keywords_SA_dict = json.load(f)\n",
    "keywords_SA_dict\n",
    "\n",
    "ndc_dict = make_filtered_tokens_from_ndc(keywords_SA_dict)"
   ]
  },
  {
   "cell_type": "code",
   "execution_count": 4,
   "id": "12c047ad",
   "metadata": {
    "ExecuteTime": {
     "end_time": "2021-10-09T11:56:34.477369Z",
     "start_time": "2021-10-09T11:56:34.475585Z"
    }
   },
   "outputs": [],
   "source": [
    "#get words directly from NDCs\n",
    "#\n",
    "#\n",
    "#"
   ]
  },
  {
   "cell_type": "code",
   "execution_count": null,
   "id": "0f5bfe69",
   "metadata": {
    "ExecuteTime": {
     "end_time": "2021-10-09T09:50:18.093129Z",
     "start_time": "2021-10-09T09:50:18.075584Z"
    }
   },
   "outputs": [],
   "source": []
  },
  {
   "cell_type": "code",
   "execution_count": null,
   "id": "04b515a1",
   "metadata": {
    "ExecuteTime": {
     "end_time": "2021-10-09T09:48:30.842102Z",
     "start_time": "2021-10-09T09:48:30.837896Z"
    }
   },
   "outputs": [],
   "source": []
  },
  {
   "cell_type": "markdown",
   "id": "0a451074",
   "metadata": {},
   "source": [
    "### Import data: Policy-related documents to analyze"
   ]
  },
  {
   "cell_type": "code",
   "execution_count": 5,
   "id": "9df47609",
   "metadata": {
    "ExecuteTime": {
     "end_time": "2021-10-09T11:56:34.491367Z",
     "start_time": "2021-10-09T11:56:34.479044Z"
    }
   },
   "outputs": [
    {
     "name": "stdout",
     "output_type": "stream",
     "text": [
      "There are 103 policy docs Some of the policy docs include:  ['InSessionSpecialEditionBudget2021.pdf.ocr.txt', 'InSessionVol2Issue10.pdf.ocr.txt', 'InSessionSpecialEditionBudget2021.txt', 'InSessionVol2Issue10.txt', 'InSessionVol2Issue11.txt', 'InSessionSpecialEdition2021.txt', 'InSessionSpecialEdition2021.pdf.ocr.txt', 'InSessionVol2Issue11.pdf.ocr.txt', '2nd National Biodiversity Strategy Action Plan 2015-2025.pdf_ocr.txt', 'Climate_Change_Bill (2018).txt']\n"
     ]
    },
    {
     "data": {
      "text/html": [
       "<div>\n",
       "<style scoped>\n",
       "    .dataframe tbody tr th:only-of-type {\n",
       "        vertical-align: middle;\n",
       "    }\n",
       "\n",
       "    .dataframe tbody tr th {\n",
       "        vertical-align: top;\n",
       "    }\n",
       "\n",
       "    .dataframe thead th {\n",
       "        text-align: right;\n",
       "    }\n",
       "</style>\n",
       "<table border=\"1\" class=\"dataframe\">\n",
       "  <thead>\n",
       "    <tr style=\"text-align: right;\">\n",
       "      <th></th>\n",
       "      <th>policy_doc_paths</th>\n",
       "      <th>policy_doc_name_clean</th>\n",
       "    </tr>\n",
       "    <tr>\n",
       "      <th>policy_doc_names</th>\n",
       "      <th></th>\n",
       "      <th></th>\n",
       "    </tr>\n",
       "  </thead>\n",
       "  <tbody>\n",
       "    <tr>\n",
       "      <th>InSessionSpecialEditionBudget2021.pdf.ocr.txt</th>\n",
       "      <td>../../giz-policy_tracking_docs/SouthAfrica/Dat...</td>\n",
       "      <td>InSessionSpecialEditionBudget2021</td>\n",
       "    </tr>\n",
       "    <tr>\n",
       "      <th>InSessionVol2Issue10.pdf.ocr.txt</th>\n",
       "      <td>../../giz-policy_tracking_docs/SouthAfrica/Dat...</td>\n",
       "      <td>InSessionVol2Issue10</td>\n",
       "    </tr>\n",
       "    <tr>\n",
       "      <th>InSessionSpecialEditionBudget2021.txt</th>\n",
       "      <td>../../giz-policy_tracking_docs/SouthAfrica/Dat...</td>\n",
       "      <td>InSessionSpecialEditionBudget2021</td>\n",
       "    </tr>\n",
       "    <tr>\n",
       "      <th>InSessionVol2Issue10.txt</th>\n",
       "      <td>../../giz-policy_tracking_docs/SouthAfrica/Dat...</td>\n",
       "      <td>InSessionVol2Issue10</td>\n",
       "    </tr>\n",
       "    <tr>\n",
       "      <th>InSessionVol2Issue11.txt</th>\n",
       "      <td>../../giz-policy_tracking_docs/SouthAfrica/Dat...</td>\n",
       "      <td>InSessionVol2Issue11</td>\n",
       "    </tr>\n",
       "  </tbody>\n",
       "</table>\n",
       "</div>"
      ],
      "text/plain": [
       "                                                                                policy_doc_paths  \\\n",
       "policy_doc_names                                                                                   \n",
       "InSessionSpecialEditionBudget2021.pdf.ocr.txt  ../../giz-policy_tracking_docs/SouthAfrica/Dat...   \n",
       "InSessionVol2Issue10.pdf.ocr.txt               ../../giz-policy_tracking_docs/SouthAfrica/Dat...   \n",
       "InSessionSpecialEditionBudget2021.txt          ../../giz-policy_tracking_docs/SouthAfrica/Dat...   \n",
       "InSessionVol2Issue10.txt                       ../../giz-policy_tracking_docs/SouthAfrica/Dat...   \n",
       "InSessionVol2Issue11.txt                       ../../giz-policy_tracking_docs/SouthAfrica/Dat...   \n",
       "\n",
       "                                                           policy_doc_name_clean  \n",
       "policy_doc_names                                                                  \n",
       "InSessionSpecialEditionBudget2021.pdf.ocr.txt  InSessionSpecialEditionBudget2021  \n",
       "InSessionVol2Issue10.pdf.ocr.txt                            InSessionVol2Issue10  \n",
       "InSessionSpecialEditionBudget2021.txt          InSessionSpecialEditionBudget2021  \n",
       "InSessionVol2Issue10.txt                                    InSessionVol2Issue10  \n",
       "InSessionVol2Issue11.txt                                    InSessionVol2Issue11  "
      ]
     },
     "execution_count": 5,
     "metadata": {},
     "output_type": "execute_result"
    }
   ],
   "source": [
    "#here is the general folder with the different types of policy documents\n",
    "policy_doc_folder = '../../giz-policy_tracking_docs/SouthAfrica/Data'\n",
    "#get df of docs\n",
    "policy_doc_df = get_docs_df_from_folder(policy_doc_folder)\n",
    "policy_doc_df.head()"
   ]
  },
  {
   "cell_type": "markdown",
   "id": "d57d7cae",
   "metadata": {},
   "source": [
    "### Preprocess data"
   ]
  },
  {
   "cell_type": "code",
   "execution_count": 6,
   "id": "2fdd64a8",
   "metadata": {
    "ExecuteTime": {
     "end_time": "2021-10-09T11:56:36.610505Z",
     "start_time": "2021-10-09T11:56:34.492550Z"
    }
   },
   "outputs": [
    {
     "name": "stdout",
     "output_type": "stream",
     "text": [
      "environmentquarterly_july_sept2019 ../../giz-policy_tracking_docs/SouthAfrica/Data/Department Forestry, Fisheries _ the Environment Quarterly Magazine/TXT/environmentquarterly_july_sept2019.txt\n",
      "Original text:  81290\n",
      "Expanded_text:  80012\n",
      "www.environment.gov.za : Environment Quarterly i July – September 2019:\n",
      "The Women Issue EzemVelo Ngenyanga Ntathu Mbango wa kotara Mupo nga Kotaraii Environment Quarterly : July – September 2019www.environment.gov.za :\n",
      "Environment Quarterly 1 Content ARTICLES IN ENVIRONMENT QUARTERLY THIS ISSUE : July – September 2019 14 22 7 Cover story 4 Women doing excellent work in environment Features 10 Minister and Deputy Minister lead Mandela Day 13\n",
      "Poster: UNESCO Heritage Sites 14 Waste Khoro 15\n",
      "Poster: Arbour Month 16\n",
      "Poster:\n",
      "Abalone farming and poaching 18 Securing a future for nature in Africa 19\n",
      "Poster: Producing energy from plant matter 23 Research: Nanomaterials in household products needs attention 24 DEFF signs MoU with Waste Management SA 25 DEFF to phase down harmful greenhouse gases 26 Women in Environment Dialogue 27\n",
      "Poster: Clean up, Pick it up!\n",
      "28\n"
     ]
    }
   ],
   "source": [
    "##lets take a look at the document from South Africa used in the example in the proposal first:\n",
    "doc_name = '2nd National Biodiversity Strategy Action Plan 2015-2025.pdf_ocr.txt'\n",
    "##lets try with another document\n",
    "#test_doc_name = 'InSessionSpecialEditionBudget2021.pdf.ocr.txt'\n",
    "doc_path = policy_doc_df.loc[doc_name]['policy_doc_paths']\n",
    "\n",
    "#can also simply specify the first or whichever document in the list by order: \n",
    "#(this will be helpful for future versions that involve more interrating over different documents)\n",
    "i=53\n",
    "doc_name = policy_doc_df.iloc[i]['policy_doc_name_clean']\n",
    "doc_path = policy_doc_df.iloc[i]['policy_doc_paths']\n",
    "print(doc_name, doc_path)\n",
    "tokens, token_list, sentences = preprocess_doc(doc_path)"
   ]
  },
  {
   "cell_type": "markdown",
   "id": "300b2e61",
   "metadata": {},
   "source": [
    "#### The token object: \n",
    "The tokens have all sorts of useful information association with them, for instance their positions (in token.idx) which we can use these later to define windows. See below for example."
   ]
  },
  {
   "cell_type": "code",
   "execution_count": 7,
   "id": "f6a514aa",
   "metadata": {
    "ExecuteTime": {
     "end_time": "2021-10-09T11:56:36.615472Z",
     "start_time": "2021-10-09T11:56:36.611838Z"
    },
    "scrolled": true
   },
   "outputs": [
    {
     "name": "stdout",
     "output_type": "stream",
     "text": [
      "www.environment.gov.za 0\n",
      ": 23\n",
      "Environment 25\n",
      "Quarterly 37\n",
      "i 47\n",
      "July 49\n",
      "– 54\n",
      "September 56\n",
      "2019 66\n",
      ": 70\n",
      "The 72\n",
      "Women 76\n",
      "Issue 82\n",
      "EzemVelo 88\n",
      "Ngenyanga 97\n",
      "Ntathu 107\n",
      "Mbango 114\n",
      "wa 121\n",
      "kotara 124\n",
      "Mupo 131\n"
     ]
    }
   ],
   "source": [
    "for token in token_list[:20]:\n",
    "    print (token, token.idx)"
   ]
  },
  {
   "cell_type": "markdown",
   "id": "89452ae3",
   "metadata": {},
   "source": [
    "We can see from above that the tokens need to be filtered and it might be useful if the words are all made lowercase and the words are lemmatized so the different forms of a word are recognized as the same thing"
   ]
  },
  {
   "cell_type": "code",
   "execution_count": 8,
   "id": "60e2e270",
   "metadata": {
    "ExecuteTime": {
     "end_time": "2021-10-09T11:56:37.438952Z",
     "start_time": "2021-10-09T11:56:36.616951Z"
    }
   },
   "outputs": [
    {
     "name": "stdout",
     "output_type": "stream",
     "text": [
      "These are some of the filtered tokens:  41 242 environment quarterly july september 2019 editorial head communications albi modise editor erica mathye editorial team salome tsoka tshegofatso ndhlovu veronica mahlaba zibuse ndlovu cover image benedict mlaba design layout brian chapole funeka simelane itumeleng motsepe nkosingiphile madlopha sibusisiwe nxumalo contributors benedict mlaba gaopalelwe moroane koketso modiba nikki kingsley perfect hlongwane russell baloyi ryan peter seipati sentle siziphiwe maxengana tshego letshwiti photography benedict mlaba brian chapole erica mathye gaopalelwe moroane proudly sa siziphiwe maxengana veronica mahlaba zibuse ndlovu meet team find information www.environment.gov.za 086 111 2468 dear valued stakeholder n august south africa celebrate women month mark march union\n"
     ]
    }
   ],
   "source": [
    "filtered_tokens = filter_modify_tokens(tokens)\n",
    "print('These are some of the filtered tokens: ', filtered_tokens[200:300])"
   ]
  },
  {
   "cell_type": "markdown",
   "id": "1ddeddce",
   "metadata": {},
   "source": [
    "### Find most common (and unique) words"
   ]
  },
  {
   "cell_type": "code",
   "execution_count": 9,
   "id": "a9bb1aa3",
   "metadata": {
    "ExecuteTime": {
     "end_time": "2021-10-09T11:56:37.447978Z",
     "start_time": "2021-10-09T11:56:37.440231Z"
    }
   },
   "outputs": [
    {
     "name": "stdout",
     "output_type": "stream",
     "text": [
      "[('environment', 122), ('ms', 63), ('quarterly', 52), ('minister', 52), ('africa', 52), ('department', 51), ('work', 47), ('waste', 45), ('south', 43), ('2019', 42), ('say', 42), ('management', 39), ('grass', 38), ('woman', 36), ('september', 34), ('july', 33), ('day', 33), ('programme', 33), ('environmental', 32), ('mr', 31), ('coastal', 29), ('country', 29), ('lawn', 29), ('area', 28), ('municipality', 26), ('forestry', 26), ('year', 26), ('climate', 26), ('deff', 25), ('creecy', 25)]\n"
     ]
    }
   ],
   "source": [
    "from collections import Counter\n",
    "# Remove stop words and punctuation symbols\n",
    "words = [token.text for token in filtered_tokens]\n",
    "word_freq = Counter(words)\n",
    "# 5 commonly occurring words with their frequencies\n",
    "common_words = word_freq.most_common(30)\n",
    "print(common_words)\n",
    "\n",
    "# Unique words\n",
    "#unique_words = [word for (word, freq) in word_freq.items() if freq == 1]\n",
    "#print (unique_words)"
   ]
  },
  {
   "cell_type": "code",
   "execution_count": 10,
   "id": "2edbbefc",
   "metadata": {
    "ExecuteTime": {
     "end_time": "2021-10-09T11:56:37.453561Z",
     "start_time": "2021-10-09T11:56:37.451048Z"
    }
   },
   "outputs": [
    {
     "name": "stdout",
     "output_type": "stream",
     "text": [
      "national adaption plan\n",
      "climate change\n",
      "early warning\n"
     ]
    }
   ],
   "source": [
    "for key in ndc_dict.keys(): \n",
    "    print (key)"
   ]
  },
  {
   "cell_type": "markdown",
   "id": "ada47c6b",
   "metadata": {},
   "source": [
    "### Make some plots of the NDC/Thematic key words"
   ]
  },
  {
   "cell_type": "code",
   "execution_count": 11,
   "id": "363fa136",
   "metadata": {
    "ExecuteTime": {
     "end_time": "2021-10-09T11:56:38.384982Z",
     "start_time": "2021-10-09T11:56:37.454703Z"
    }
   },
   "outputs": [
    {
     "name": "stdout",
     "output_type": "stream",
     "text": [
      "Graphing the occurences of national adaption plan words in the document\n",
      "This document has the following number of words related to national adaption plan NDCs:  47 \n",
      "\n"
     ]
    },
    {
     "data": {
      "image/png": "[encoded data removed]",
      "text/plain": [
       "<Figure size 216x288 with 1 Axes>"
      ]
     },
     "metadata": {},
     "output_type": "display_data"
    },
    {
     "name": "stdout",
     "output_type": "stream",
     "text": [
      "Graphing the occurences of climate change words in the document\n",
      "This document has the following number of words related to climate change NDCs:  159 \n",
      "\n"
     ]
    },
    {
     "data": {
      "image/png": "[encoded data removed]",
      "text/plain": [
       "<Figure size 624x288 with 1 Axes>"
      ]
     },
     "metadata": {},
     "output_type": "display_data"
    },
    {
     "name": "stdout",
     "output_type": "stream",
     "text": [
      "Graphing the occurences of early warning words in the document\n",
      "This document has the following number of words related to early warning NDCs:  66 \n",
      "\n"
     ]
    },
    {
     "data": {
      "image/png": "[encoded data removed]",
      "text/plain": [
       "<Figure size 312x288 with 1 Axes>"
      ]
     },
     "metadata": {},
     "output_type": "display_data"
    }
   ],
   "source": [
    "#just to test - need to modularise/make more reproducible and tailor output to be useful across documents\n",
    "#could also link this back to the df of the documents to output a table with some summary metrics for keywords \n",
    "#in eaach document of interest\n",
    "\n",
    "graphs_folder = '../../outputs/test_plots/bar_charts/'    \n",
    "    \n",
    "for key in ndc_dict.keys(): \n",
    "    print(\"Graphing the occurences of %s words in the document\" % key)\n",
    "    words, word_scores = calculate_word_freq_ndc(word_freq, ndc_dict, str(key))\n",
    "    graph_word_freq_ndc(words, word_scores, str(key), doc_name, graphs_folder) "
   ]
  },
  {
   "cell_type": "code",
   "execution_count": null,
   "id": "dfcf73db",
   "metadata": {
    "ExecuteTime": {
     "end_time": "2021-10-09T11:28:25.025803Z",
     "start_time": "2021-10-09T11:28:24.530007Z"
    }
   },
   "outputs": [],
   "source": []
  },
  {
   "cell_type": "markdown",
   "id": "80c7511c",
   "metadata": {},
   "source": [
    "### Parts of speech tagging"
   ]
  },
  {
   "cell_type": "code",
   "execution_count": 12,
   "id": "b1b40fc0",
   "metadata": {
    "ExecuteTime": {
     "end_time": "2021-10-09T11:56:38.395870Z",
     "start_time": "2021-10-09T11:56:38.386656Z"
    }
   },
   "outputs": [
    {
     "name": "stdout",
     "output_type": "stream",
     "text": [
      "www.environment.gov.za NNP PROPN noun, proper singular\n",
      "environment NNP PROPN noun, proper singular\n",
      "quarterly JJ ADJ adjective (English), other noun-modifier (Chinese)\n",
      "july NNP PROPN noun, proper singular\n",
      "september NNP PROPN noun, proper singular\n",
      "2019 CD NUM cardinal number\n",
      "women NNS NOUN noun, plural\n",
      "issue NN NOUN noun, singular or mass\n",
      "ezemvelo NNP PROPN noun, proper singular\n",
      "ngenyanga NNP PROPN noun, proper singular\n",
      "ntathu NNP PROPN noun, proper singular\n",
      "mbango NNP PROPN noun, proper singular\n",
      "wa NNP PROPN noun, proper singular\n",
      "kotara NNP PROPN noun, proper singular\n",
      "mupo NNP PROPN noun, proper singular\n",
      "nga RB ADV adverb\n",
      "kotaraii NNP PROPN noun, proper singular\n",
      "environment NNP PROPN noun, proper singular\n",
      "quarterly JJ ADJ adjective (English), other noun-modifier (Chinese)\n",
      "july NNP PROPN noun, proper singular\n",
      "september NNP PROPN noun, proper singular\n",
      "2019www.environment.gov.za CD NUM cardinal number\n",
      "environment NNP PROPN noun, proper singular\n",
      "quarterly RB ADV adverb\n",
      "1 CD NUM cardinal number\n",
      "content NN NOUN noun, singular or mass\n",
      "articles NNS NOUN noun, plural\n",
      "environment VBP VERB verb, non-3rd person singular present\n",
      "quarterly JJ ADJ adjective (English), other noun-modifier (Chinese)\n",
      "issue NN NOUN noun, singular or mass\n",
      "july NNP PROPN noun, proper singular\n",
      "september NNP PROPN noun, proper singular\n",
      "2019 CD NUM cardinal number\n",
      "14 CD NUM cardinal number\n",
      "22 CD NUM cardinal number\n",
      "7 CD NUM cardinal number\n",
      "cover NN NOUN noun, singular or mass\n",
      "story NN NOUN noun, singular or mass\n",
      "4 CD NUM cardinal number\n",
      "woman NN NOUN noun, singular or mass\n",
      "excellent JJ ADJ adjective (English), other noun-modifier (Chinese)\n",
      "work NN NOUN noun, singular or mass\n",
      "environment NN NOUN noun, singular or mass\n",
      "feature VBP VERB verb, non-3rd person singular present\n",
      "10 CD NUM cardinal number\n",
      "minister NN NOUN noun, singular or mass\n",
      "deputy NNP PROPN noun, proper singular\n",
      "minister NNP PROPN noun, proper singular\n",
      "lead NNP PROPN noun, proper singular\n",
      "mandela NNP PROPN noun, proper singular\n",
      "\n",
      "\n",
      "some nouns spacy called in the document include: \n",
      " [women, issue, content, articles, issue, cover, story, woman, work, environment, minister, poster, heritage, sites, waste, poster, arbour, month, poster, abalone, farm, nature, poster, energy, plant, matter, research, household, product, attention, deff, waste, management, sa, deff, phase, greenhouse, gas, women, environment, dialogue, poster, municipality, competition, poster, municipality, competition, firefighter, hero, welcome] \n",
      "\n",
      "some adjectives spacy called in the document include: \n",
      " [quarterly, quarterly, quarterly, excellent, secure, future, nanomaterial, harmful, clean, greenest, greenest, inaugural, intergrated, coastal, key, green, open, international, coastal, clean, quarterly, editorial, nkosingiphile, dear, 25th, universal, environmental, proud, incisive, close, personal, sheepmoor, free, alive, unsustainable, environmental, economic, able, sustainable, inclusive, green, economic, annual, circular, present, inaugural, coastal, focus, rich, public]\n"
     ]
    }
   ],
   "source": [
    "for token in filtered_tokens[:50]:\n",
    "    print(token, token.tag_, token.pos_, spacy.explain(token.tag_))\n",
    "print('\\n')\n",
    "    \n",
    "nouns = []\n",
    "adjectives = []\n",
    "for token in filtered_tokens:\n",
    "    if token.pos_ == 'NOUN':\n",
    "        nouns.append(token)\n",
    "    if token.pos_ == 'ADJ':\n",
    "        adjectives.append(token)\n",
    "\n",
    "print('some nouns spacy called in the document include:', '\\n', nouns[:50], '\\n')\n",
    "print('some adjectives spacy called in the document include:', '\\n', adjectives[:50])"
   ]
  },
  {
   "cell_type": "code",
   "execution_count": 13,
   "id": "7fc72129",
   "metadata": {
    "ExecuteTime": {
     "end_time": "2021-10-09T11:56:38.400728Z",
     "start_time": "2021-10-09T11:56:38.397730Z"
    }
   },
   "outputs": [
    {
     "data": {
      "text/plain": [
       "'environmentquarterly_july_sept2019'"
      ]
     },
     "execution_count": 13,
     "metadata": {},
     "output_type": "execute_result"
    }
   ],
   "source": [
    "doc_name"
   ]
  },
  {
   "cell_type": "code",
   "execution_count": null,
   "id": "773f4581",
   "metadata": {},
   "outputs": [],
   "source": []
  }
 ],
 "metadata": {
  "kernelspec": {
   "display_name": "Python 3 (ipykernel)",
   "language": "python",
   "name": "python3"
  },
  "language_info": {
   "codemirror_mode": {
    "name": "ipython",
    "version": 3
   },
   "file_extension": ".py",
   "mimetype": "text/x-python",
   "name": "python",
   "nbconvert_exporter": "python",
   "pygments_lexer": "ipython3",
   "version": "3.9.7"
  }
 },
 "nbformat": 4,
 "nbformat_minor": 5
}
