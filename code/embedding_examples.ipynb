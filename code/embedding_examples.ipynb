{
 "cells": [
  {
   "cell_type": "code",
   "execution_count": 1,
   "metadata": {},
   "outputs": [],
   "source": [
    "import spacy\n",
    "import numpy as np\n",
    "from correlation import *\n",
    "from spacy import displacy\n",
    "\n",
    "nlp = spacy.load(\"en_core_web_sm\")"
   ]
  },
  {
   "cell_type": "code",
   "execution_count": 2,
   "metadata": {},
   "outputs": [],
   "source": [
    "from textutils import importer\n",
    "import json\n",
    "\n",
    "annual_report = importer.TextImporter(\"../texts/AnnualReport2017-2018.txt\")\n",
    "with open(\"../ndc_keywords/ndc_south_africa.json\") as f:\n",
    "    ndc_keywords = json.load(f)\n",
    "\n",
    "climate_keywords = ndc_keywords['climate change']"
   ]
  },
  {
   "cell_type": "code",
   "execution_count": 3,
   "metadata": {},
   "outputs": [],
   "source": [
    "token_correlator = TokenArrayCorrelator(climate_keywords, 0.7, \"CLIMATE_TOKEN\")\n",
    "span_correlator = SpanCorrelator(climate_keywords, 0.7, \"CLIMATE_SPAN\")\n",
    "generic_correlator = KeywordCorrelator(climate_keywords)\n"
   ]
  },
  {
   "cell_type": "code",
   "execution_count": 4,
   "metadata": {},
   "outputs": [
    {
     "name": "stdout",
     "output_type": "stream",
     "text": [
      "['adaption program', 'adaption projects', 'resilience', 'institutional capacity', 'response', 'budget reprioritisation', 'development', 'planner', 'regulator practitioners', 'geographical circumstances', 'land use scheme', 'authorisation system', 'spatial land use management act', 'spluma']\n"
     ]
    }
   ],
   "source": [
    "print(climate_keywords)"
   ]
  },
  {
   "cell_type": "markdown",
   "metadata": {},
   "source": [
    "# First, explore the generic correlator functionality"
   ]
  },
  {
   "cell_type": "code",
   "execution_count": 5,
   "metadata": {},
   "outputs": [
    {
     "name": "stdout",
     "output_type": "stream",
     "text": [
      "[0.4462148  0.05690929]\n"
     ]
    }
   ],
   "source": [
    "sentence_to_correlate = \"We need to adapt our project to be more resillient to geographical circumstances\"\n",
    "unrelated_sentence = \"The next time the leaders will meet in paris\"\n",
    "\n",
    "print(generic_correlator([sentence_to_correlate, unrelated_sentence]))"
   ]
  },
  {
   "cell_type": "markdown",
   "metadata": {},
   "source": [
    "We can see that the sentence which uses some of the NDC keywords has a much higher embedding score than the unrelated sentence"
   ]
  },
  {
   "cell_type": "markdown",
   "metadata": {},
   "source": [
    "# Now, lets see how we can integrate the output of our embedder into Spacy, an NLP library"
   ]
  },
  {
   "cell_type": "code",
   "execution_count": 6,
   "metadata": {},
   "outputs": [],
   "source": [
    "# Load our text into a spacy document\n",
    "doc = nlp(annual_report.text)"
   ]
  },
  {
   "cell_type": "code",
   "execution_count": 7,
   "metadata": {},
   "outputs": [],
   "source": [
    "doc.ents = []\n",
    "from n_gram_correlation import NGramCorrelateSpacy\n",
    "\n",
    "n_gram_cor = NGramCorrelateSpacy(climate_keywords, 0.7, \"CLIMATE_N\")\n",
    "\n",
    "n_gram_cor.correlate_spans(doc, 4)\n",
    "\n",
    "# Currently takes 1m20s to correlate 4-gram spans\n",
    "# will revise algorithm to use the ability of embedding many spans at the same time.\n",
    "\n",
    "# Now only takes 3 seconds for some reason...have no idea?\n"
   ]
  },
  {
   "cell_type": "code",
   "execution_count": 9,
   "metadata": {},
   "outputs": [
    {
     "name": "stdout",
     "output_type": "stream",
     "text": [
      "(Budget Office\n",
      "SADC, the\n",
      "African Development, Budget Office\n",
      "(, Development, and the, development of the project, the development of the, for\n",
      "Sustainable Development, \n",
      "Economic Development,, and\n",
      "Transcription System, budget slowed\n",
      "the, budget advice.\n",
      ", Budget Reports\n",
      "2015/16, Budget Actual\n",
      "amounts)\n"
     ]
    }
   ],
   "source": [
    "print(doc.ents)"
   ]
  },
  {
   "cell_type": "code",
   "execution_count": null,
   "metadata": {},
   "outputs": [],
   "source": []
  }
 ],
 "metadata": {
  "interpreter": {
   "hash": "75547552c603f22400c6f6e0e4ad2ade15359435e000e6746c53241e37331409"
  },
  "kernelspec": {
   "display_name": "Python 3.9.7 64-bit ('venv': venv)",
   "language": "python",
   "name": "python3"
  },
  "language_info": {
   "codemirror_mode": {
    "name": "ipython",
    "version": 3
   },
   "file_extension": ".py",
   "mimetype": "text/x-python",
   "name": "python",
   "nbconvert_exporter": "python",
   "pygments_lexer": "ipython3",
   "version": "3.9.7"
  },
  "orig_nbformat": 4
 },
 "nbformat": 4,
 "nbformat_minor": 2
}
