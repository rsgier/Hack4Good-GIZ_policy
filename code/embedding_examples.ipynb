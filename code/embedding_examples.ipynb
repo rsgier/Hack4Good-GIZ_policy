{
 "cells": [
  {
   "cell_type": "code",
   "execution_count": null,
   "metadata": {},
   "outputs": [],
   "source": [
    "import spacy\n",
    "import numpy as np\n",
    "from correlation import *\n",
    "from spacy import displacy\n",
    "\n",
    "nlp = spacy.load(\"en_core_web_sm\")"
   ]
  },
  {
   "cell_type": "code",
   "execution_count": 29,
   "metadata": {},
   "outputs": [
    {
     "ename": "SyntaxError",
     "evalue": "(unicode error) 'unicodeescape' codec can't decode bytes in position 44-45: malformed \\N character escape (Temp/ipykernel_22632/2952578680.py, line 4)",
     "output_type": "error",
     "traceback": [
      "\u001b[1;36m  File \u001b[1;32m\"C:\\Users\\techn\\AppData\\Local\\Temp/ipykernel_22632/2952578680.py\"\u001b[1;36m, line \u001b[1;32m4\u001b[0m\n\u001b[1;33m    annual_report = importer.TextImporter(\"../giz-policy_tracking_docs\\SouthAfrica\\Data\\NDC\\TXT\\NDC_South_Africa.pdf.ocr.txt\")\u001b[0m\n\u001b[1;37m                                                                                                                             ^\u001b[0m\n\u001b[1;31mSyntaxError\u001b[0m\u001b[1;31m:\u001b[0m (unicode error) 'unicodeescape' codec can't decode bytes in position 44-45: malformed \\N character escape\n"
     ]
    }
   ],
   "source": [
    "from textutils import importer\n",
    "import json\n",
    "\n",
    "annual_report = importer.TextImporter(\"../giz-policy_tracking_docs\\SouthAfrica\\Data\\NDC\\TXT\\NDC_South_Africa.pdf.ocr.txt\")\n",
    "with open(\"../ndc_keywords/ndc_south_africa.json\") as f:\n",
    "    ndc_keywords = json.load(f)\n",
    "\n",
    "climate_keywords = ndc_keywords['climate change']"
   ]
  },
  {
   "cell_type": "code",
   "execution_count": 24,
   "metadata": {},
   "outputs": [],
   "source": [
    "token_correlator = TokenArrayCorrelator(climate_keywords, 0.4, \"CLIMATE_TOKEN\")\n",
    "span_correlator = SpanCorrelator(climate_keywords, 0.4, \"CLIMATE_SPAN\")\n",
    "generic_correlator = KeywordCorrelator(climate_keywords)\n"
   ]
  },
  {
   "cell_type": "code",
   "execution_count": null,
   "metadata": {},
   "outputs": [],
   "source": [
    "print(climate_keywords)"
   ]
  },
  {
   "cell_type": "markdown",
   "metadata": {},
   "source": [
    "# First, explore the generic correlator functionality"
   ]
  },
  {
   "cell_type": "code",
   "execution_count": 23,
   "metadata": {},
   "outputs": [
    {
     "name": "stdout",
     "output_type": "stream",
     "text": [
      "[0.4462148  0.05690926 0.36428687]\n"
     ]
    }
   ],
   "source": [
    "sentence_to_correlate = \"We need to adapt our project to be more resillient to geographical circumstances\"\n",
    "unrelated_sentence = \"The next time the leaders will meet in paris\"\n",
    "\n",
    "print(generic_correlator([sentence_to_correlate, unrelated_sentence]))"
   ]
  },
  {
   "cell_type": "markdown",
   "metadata": {},
   "source": [
    "We can see that the sentence which uses some of the NDC keywords has a much higher embedding score than the unrelated sentence"
   ]
  },
  {
   "cell_type": "markdown",
   "metadata": {},
   "source": [
    "# Now, lets see how we can integrate the output of our embedder into Spacy, an NLP library"
   ]
  },
  {
   "cell_type": "code",
   "execution_count": 20,
   "metadata": {},
   "outputs": [],
   "source": [
    "# Load our text into a spacy document\n",
    "doc = nlp(annual_report.text)"
   ]
  },
  {
   "cell_type": "code",
   "execution_count": 25,
   "metadata": {},
   "outputs": [],
   "source": [
    "doc.ents = []\n",
    "for sent in doc.sents:\n",
    "    span_correlator(doc, sent)"
   ]
  },
  {
   "cell_type": "code",
   "execution_count": 26,
   "metadata": {},
   "outputs": [
    {
     "name": "stdout",
     "output_type": "stream",
     "text": [
      "(Strengthening Cooperative Government\n",
      "e. Deepening International Engagement\n",
      "f. Institutional Capacity and Support\n",
      "5., Programme 2: Administration\n",
      "iv., \n",
      "Overall Performance\n",
      ", \n",
      "Performance\n",
      "Indicator\n",
      "Annual\n",
      "Performance\n",
      "target\n",
      "Performance, \n",
      "Performance\n",
      "Indicator\n",
      "Annual\n",
      "Performance\n",
      "target\n",
      "Performance, \n",
      "Performance\n",
      "Indicator\n",
      "Annual\n",
      "Performance\n",
      "target\n",
      "Performance, \n",
      "Performance\n",
      "Indicator\n",
      "Annual\n",
      "Performance\n",
      "target\n",
      "Performance, \n",
      "+4,74, \n",
      "Performance\n",
      "Indicator\n",
      "Annual\n",
      "Performance\n",
      "target\n",
      "Performance, \n",
      "Performance\n",
      "Indicator\n",
      "Annual\n",
      "Performance\n",
      "target\n",
      "Performance, \n",
      "Performance\n",
      "Indicator\n",
      "Annual\n",
      "Performance\n",
      "target\n",
      "Performance, \n",
      "Performance\n",
      "Indicator\n",
      "Annual\n",
      "Performance\n",
      "target\n",
      "Performance, \n",
      "Performance\n",
      "Indicator\n",
      "Annual\n",
      "Performance\n",
      "target\n",
      "Performance, \n",
      "Performance\n",
      "Indicator\n",
      "Annual\n",
      "Performance\n",
      "target\n",
      "Performance, \n",
      "Performance\n",
      "Indicator\n",
      "Annual\n",
      "Performance\n",
      "target\n",
      "Performance, Adjustments, The FMPPLA defines unauthorised expenditure as: (a) overspending of Parliament's approved budget or a main division\n",
      "within that budget; (b) any expenditure from Parliament's approved budget or a main division within that budget, for a\n",
      "purpose unrelated to the approved budget or main division; and (c) any expenditure of donor funds for a purpose not\n",
      "specified in the agreement with the donor., \n",
      "1.24 Budget information\n",
      ", \n",
      "6., \n",
      "6., \n",
      "28, \n",
      "20., \n",
      "28., Total\n",
      ", Total\n",
      ", Budget differences\n",
      ", \n",
      "40., \n",
      "9., \n",
      "5\n",
      "27., \n",
      "2\n",
      ")\n"
     ]
    }
   ],
   "source": [
    "print(doc.ents)"
   ]
  }
 ],
 "metadata": {
  "interpreter": {
   "hash": "75547552c603f22400c6f6e0e4ad2ade15359435e000e6746c53241e37331409"
  },
  "kernelspec": {
   "display_name": "Python 3.9.7 64-bit ('venv': venv)",
   "language": "python",
   "name": "python3"
  },
  "language_info": {
   "codemirror_mode": {
    "name": "ipython",
    "version": 3
   },
   "file_extension": ".py",
   "mimetype": "text/x-python",
   "name": "python",
   "nbconvert_exporter": "python",
   "pygments_lexer": "ipython3",
   "version": "3.9.7"
  },
  "orig_nbformat": 4
 },
 "nbformat": 4,
 "nbformat_minor": 2
}
