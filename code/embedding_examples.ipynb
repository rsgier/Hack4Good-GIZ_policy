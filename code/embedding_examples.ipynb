{
 "cells": [
  {
   "cell_type": "code",
   "execution_count": 1,
   "metadata": {},
   "outputs": [],
   "source": [
    "import spacy\n",
    "import numpy as np\n",
    "from correlation import *\n",
    "from spacy import displacy\n",
    "\n",
    "nlp = spacy.load(\"en_core_web_sm\")"
   ]
  },
  {
   "cell_type": "code",
   "execution_count": 4,
   "metadata": {},
   "outputs": [],
   "source": [
    "from textutils import importer\n",
    "import json\n",
    "\n",
    "annual_report = importer.TextImporter(\"../texts/AnnualReport2017-2018.txt\")\n",
    "with open(\"../ndc_keywords/ndc_south_africa.json\") as f:\n",
    "    ndc_keywords = json.load(f)\n",
    "\n",
    "climate_keywords = ndc_keywords['climate change']\n",
    "doc = nlp(annual_report.text)"
   ]
  },
  {
   "cell_type": "markdown",
   "metadata": {},
   "source": [
    "# Running NGram correlation on a document\n",
    "\n",
    "NGrams are all possible subsections of a document of length N. NGramCorrelateSpacy is a class that has the\n",
    "ability to break a document up into all possible defined NGrams, then correlate them against a \n",
    "group of keywords to flag for review.\n",
    "\n",
    "Before running any entity tagging operation, the current document's entity list should be cleared, as Spacy \n",
    "prohibits overlapping entities.\n",
    "\n",
    "In this example, we will initialize an NGramCorrelateSpacy object with a list of climate change keywords\n",
    "and set it to tag entities if their correlation surpasses a given value. If the correlation for an NGram \n",
    "surpasses 0.7, as seen in this example, it will be tagged with the flag CLIMATE_N. \n",
    "\n",
    "We start the correlation process by passing the correlator the document, and the size of NGrams we want to analyze.\n",
    "Using N=4 will correlate all possible spans of length 4.\n",
    "\n",
    "After correlation of the possible 4-Grams, we display passeges surrounding five of the flagged entities."
   ]
  },
  {
   "cell_type": "code",
   "execution_count": 5,
   "metadata": {},
   "outputs": [],
   "source": [
    "from n_gram_correlation import NGramCorrelateSpacy\n",
    "n_gram_cor = NGramCorrelateSpacy(climate_keywords, 0.7, \"CLIMATE_N\")\n",
    "doc.ents = []\n",
    "n_gram_cor.correlate_spans(doc, 4)"
   ]
  },
  {
   "cell_type": "code",
   "execution_count": 7,
   "metadata": {},
   "outputs": [
    {
     "data": {
      "text/html": [
       "<span class=\"tex2jax_ignore\"><div class=\"entities\" style=\"line-height: 2.5; direction: ltr\">&amp; Building L egislative Capacity\r</br>c. Enhancing Public Involvement\r</br>d. Strengthening Cooperative Government\r</br>e. Deepening International Engagement\n",
       "<mark class=\"entity\" style=\"background: #ddd; padding: 0.45em 0.6em; margin: 0 0.25em; line-height: 1; border-radius: 0.35em;\">\n",
       "    \r\n",
       "f. Institutional Capacity\n",
       "    <span style=\"font-size: 0.8em; font-weight: bold; line-height: 1; border-radius: 0.35em; vertical-align: middle; margin-left: 0.5rem\">CLIMATE_N</span>\n",
       "</mark>\n",
       " and Support\r</br>5. INFORMATION ON PRE-DETERMINED OBJECTIVES\r</br>a. Aim of the Vote\r</br>b. Overview </div></span>"
      ],
      "text/plain": [
       "<IPython.core.display.HTML object>"
      ]
     },
     "metadata": {},
     "output_type": "display_data"
    },
    {
     "data": {
      "text/html": [
       "<span class=\"tex2jax_ignore\"><div class=\"entities\" style=\"line-height: 2.5; direction: ltr\">\r</br>MTSF Medium-Term Strategic Framework\r</br>NA National Assembly\r</br>NCOP National Council of Provinces\r</br>NDP National \n",
       "<mark class=\"entity\" style=\"background: #ddd; padding: 0.45em 0.6em; margin: 0 0.25em; line-height: 1; border-radius: 0.35em;\">\n",
       "    Development Plan\r\n",
       "NEHAWU\n",
       "    <span style=\"font-size: 0.8em; font-weight: bold; line-height: 1; border-radius: 0.35em; vertical-align: middle; margin-left: 0.5rem\">CLIMATE_N</span>\n",
       "</mark>\n",
       " National Education, Health &amp; Allied Workers’ Union\r</br>OLOGB Office of the Leader of Government Business\r</br>PAIA </div></span>"
      ],
      "text/plain": [
       "<IPython.core.display.HTML object>"
      ]
     },
     "metadata": {},
     "output_type": "display_data"
    },
    {
     "data": {
      "text/html": [
       "<span class=\"tex2jax_ignore\"><div class=\"entities\" style=\"line-height: 2.5; direction: ltr\">of Government Business\r</br>PAIA Promotion of Access to Information Act\r</br>PAP Pan-African Parliament\r</br>PBO Parliamentary \n",
       "<mark class=\"entity\" style=\"background: #ddd; padding: 0.45em 0.6em; margin: 0 0.25em; line-height: 1; border-radius: 0.35em;\">\n",
       "    Budget Office\r\n",
       "SADC\n",
       "    <span style=\"font-size: 0.8em; font-weight: bold; line-height: 1; border-radius: 0.35em; vertical-align: middle; margin-left: 0.5rem\">CLIMATE_N</span>\n",
       "</mark>\n",
       "-PF Southern African Development Community Parliamentary Forum\r</br>SALS South African Legislative Sector\r</br>SALSA Secretaries’ Association of </div></span>"
      ],
      "text/plain": [
       "<IPython.core.display.HTML object>"
      ]
     },
     "metadata": {},
     "output_type": "display_data"
    },
    {
     "data": {
      "text/html": [
       "<span class=\"tex2jax_ignore\"><div class=\"entities\" style=\"line-height: 2.5; direction: ltr\">But now, things are changing for the better and, as the International Monetary Fund (IMF) and \n",
       "<mark class=\"entity\" style=\"background: #ddd; padding: 0.45em 0.6em; margin: 0 0.25em; line-height: 1; border-radius: 0.35em;\">\n",
       "    the\r\n",
       "African Development\n",
       "    <span style=\"font-size: 0.8em; font-weight: bold; line-height: 1; border-radius: 0.35em; vertical-align: middle; margin-left: 0.5rem\">CLIMATE_N</span>\n",
       "</mark>\n",
       " Bank pointed out, the global economic outlook looks promising - with better\r</br>prospects for countries like ours. </div></span>"
      ],
      "text/plain": [
       "<IPython.core.display.HTML object>"
      ]
     },
     "metadata": {},
     "output_type": "display_data"
    },
    {
     "data": {
      "text/html": [
       "<span class=\"tex2jax_ignore\"><div class=\"entities\" style=\"line-height: 2.5; direction: ltr\">\r</br>18\r</br>PARLIAMENT OF THE REPUBLIC OF SOUTH AFRICA ANNUAL REPORT 2017/18\r</br>In addition, work has begun \n",
       "<mark class=\"entity\" style=\"background: #ddd; padding: 0.45em 0.6em; margin: 0 0.25em; line-height: 1; border-radius: 0.35em;\">\n",
       "    on the development of\n",
       "    <span style=\"font-size: 0.8em; font-weight: bold; line-height: 1; border-radius: 0.35em; vertical-align: middle; margin-left: 0.5rem\">CLIMATE_N</span>\n",
       "</mark>\n",
       " a resource generation and allocation framework,\r</br>and a methodology to determine value for money. In addition, </div></span>"
      ],
      "text/plain": [
       "<IPython.core.display.HTML object>"
      ]
     },
     "metadata": {},
     "output_type": "display_data"
    }
   ],
   "source": [
    "for e in doc.ents[0:5]:\n",
    "    displacy.render(doc[e.start-20:e.end+20], style='ent')"
   ]
  },
  {
   "cell_type": "markdown",
   "metadata": {},
   "source": [
    "# Other correlation tools\n",
    "\n",
    "## KeywordCorrelator\n",
    "The KeywordCorrelator class is a simple tool to analyze the correlation of any set of strings\n",
    "to a static list of keywords. This class is initialized with a list of keywords that we are\n",
    "interested in. We can then make calls on an instance of this class with a list of strings, \n",
    "and it will return a list of coefficients (cosine similarities) between the embeddings \n",
    "of each sentence and the embeddings of the keywords. The returned similarities\n",
    "are the maximum cosine similarity found amongst a given sentence and all the keyword embeddings.\n",
    "\n",
    "This clase is used as the basis for all other correlators.\n",
    "\n",
    "## SpanCorrelator\n",
    "The SpanCorrelator is a slightly more intelligent version of the generic correlator. It features\n",
    "Spacy integration, allowing it to mark provided sections of a document with tags if the sections\n",
    "score high enough against the embeddings of the initialized keywords. \n",
    "\n",
    "## TokenArrayCorrelator\n",
    "The TokenArrayCorrelator is a specialized version of the SpanCorrelator. It can be passed an array of token arrays\n",
    "which do not have to be consecutive, although the position of tokens in a given array must be in\n",
    "an ascending order by location in the document. It operates similarly to SpanCorrelator, embedding\n",
    "the strings created by the selections of tokens against initialized keywords, then tagging \n",
    "entities in the document which include the token subsets if their cosine similarities \n",
    "pass a certain threshold."
   ]
  },
  {
   "cell_type": "code",
   "execution_count": 23,
   "metadata": {},
   "outputs": [],
   "source": [
    "token_correlator = TokenArrayCorrelator(climate_keywords, 0.4, \"CLIMATE_TOKEN\")\n",
    "span_correlator = SpanCorrelator(climate_keywords, 0.4, \"CLIMATE_SPAN\")\n",
    "generic_correlator = KeywordCorrelator(climate_keywords)\n"
   ]
  },
  {
   "cell_type": "markdown",
   "metadata": {},
   "source": [
    "# First, explore the generic correlator functionality"
   ]
  },
  {
   "cell_type": "code",
   "execution_count": 24,
   "metadata": {},
   "outputs": [
    {
     "name": "stdout",
     "output_type": "stream",
     "text": [
      "[0.4462148  0.05690929]\n"
     ]
    }
   ],
   "source": [
    "sentence_to_correlate = \"We need to adapt our project to be more resillient to geographical circumstances.\"\n",
    "unrelated_sentence = \"The next time the leaders will meet in paris\"\n",
    "\n",
    "print(generic_correlator([sentence_to_correlate, unrelated_sentence]))"
   ]
  },
  {
   "cell_type": "markdown",
   "metadata": {},
   "source": [
    "We can see that the sentence which uses some of the NDC keywords has a much higher embedding score than the unrelated sentence"
   ]
  },
  {
   "cell_type": "markdown",
   "metadata": {},
   "source": [
    "# Now, lets see how we can integrate the output of our embedder into Spacy, an NLP library"
   ]
  },
  {
   "cell_type": "code",
   "execution_count": 27,
   "metadata": {},
   "outputs": [],
   "source": [
    "doc = nlp(sentence_to_correlate+ \" \" +unrelated_sentence)\n",
    "doc.ents = []\n",
    "span_correlator(doc, [s for s in doc.sents])"
   ]
  },
  {
   "cell_type": "code",
   "execution_count": 30,
   "metadata": {},
   "outputs": [
    {
     "data": {
      "text/html": [
       "<span class=\"tex2jax_ignore\"><div class=\"entities\" style=\"line-height: 2.5; direction: ltr\">\n",
       "<mark class=\"entity\" style=\"background: #ddd; padding: 0.45em 0.6em; margin: 0 0.25em; line-height: 1; border-radius: 0.35em;\">\n",
       "    We need to adapt our project to be more resillient to geographical circumstances.\n",
       "    <span style=\"font-size: 0.8em; font-weight: bold; line-height: 1; border-radius: 0.35em; vertical-align: middle; margin-left: 0.5rem\">CLIMATE_SPAN</span>\n",
       "</mark>\n",
       " The next time the leaders will meet in paris</div></span>"
      ],
      "text/plain": [
       "<IPython.core.display.HTML object>"
      ]
     },
     "metadata": {},
     "output_type": "display_data"
    }
   ],
   "source": [
    "displacy.render(doc, style='ent')"
   ]
  }
 ],
 "metadata": {
  "interpreter": {
   "hash": "75547552c603f22400c6f6e0e4ad2ade15359435e000e6746c53241e37331409"
  },
  "kernelspec": {
   "display_name": "Python 3.9.7 64-bit ('venv': venv)",
   "language": "python",
   "name": "python3"
  },
  "language_info": {
   "codemirror_mode": {
    "name": "ipython",
    "version": 3
   },
   "file_extension": ".py",
   "mimetype": "text/x-python",
   "name": "python",
   "nbconvert_exporter": "python",
   "pygments_lexer": "ipython3",
   "version": "3.9.7"
  },
  "orig_nbformat": 4
 },
 "nbformat": 4,
 "nbformat_minor": 2
}
