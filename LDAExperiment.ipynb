{
 "cells": [
  {
   "cell_type": "code",
   "execution_count": null,
   "id": "e4e50466",
   "metadata": {},
   "outputs": [],
   "source": [
    "!pip install --quiet spacy"
   ]
  },
  {
   "cell_type": "code",
   "execution_count": null,
   "id": "fb86f9e0",
   "metadata": {},
   "outputs": [],
   "source": [
    "import nltk, spacy\n",
    "\n",
    "nltk.download('wordnet')\n",
    "nltk.download('stopwords')\n",
    "\n",
    "parser = spacy.load('en_core_web_sm')\n",
    "\n",
    "def tokenize(text):\n",
    "    \n",
    "    tokens = parser(text)\n",
    "    lda_tokens = [t for t in tokens if not t.orth_.isspace()]\n",
    "    \n",
    "    return lda_tokens\n",
    "    \n",
    "\n",
    "from nltk.corpus import wordnet as wn\n",
    "def get_lemma(word):\n",
    "    '''\n",
    "    Gets the root of a word\n",
    "    \n",
    "    Args:\n",
    "        word (str): a word to find root of\n",
    "        \n",
    "    Returns:\n",
    "        lemma (str): the root of a given word\n",
    "    '''\n",
    "    lemma = wn.morphy(word)\n",
    "    if lemma is None:\n",
    "        return word\n",
    "    else:\n",
    "        return lemma\n",
    "    \n",
    "from nltk.stem.wordnet import WordNetLemmatizer\n",
    "def get_lemma2(word):\n",
    "    return WordNetLemmatizer().lemmatize(word)\n",
    "\n",
    "en_stop = set(nltk.corpus.stopwords.words('english'))"
   ]
  },
  {
   "cell_type": "code",
   "execution_count": null,
   "id": "f9067c12",
   "metadata": {},
   "outputs": [],
   "source": [
    "tokenize(\"the quick brown fox\")"
   ]
  },
  {
   "cell_type": "code",
   "execution_count": null,
   "id": "332d6a9a",
   "metadata": {},
   "outputs": [],
   "source": [
    "def prepare_text_for_lda(text):\n",
    "    def screen(tok):\n",
    "        return len(tok) > 4 and tok not in en_stop\n",
    "    \n",
    "    # this is probably not the best way to do this, look for native spacy functionality to replace\n",
    "    tokens = [get_lemma(str(token)) for token in tokenize(text) if screen(token)]\n",
    "    return tokens"
   ]
  },
  {
   "cell_type": "code",
   "execution_count": null,
   "id": "d35eb25e",
   "metadata": {},
   "outputs": [],
   "source": [
    "prepare_text_for_lda(\"the quick brown fox jumped over the lazy dog\")"
   ]
  },
  {
   "cell_type": "code",
   "execution_count": null,
   "id": "ffa53c2f",
   "metadata": {},
   "outputs": [],
   "source": []
  }
 ],
 "metadata": {
  "kernelspec": {
   "display_name": "Python 3 (ipykernel)",
   "language": "python",
   "name": "python3"
  },
  "language_info": {
   "codemirror_mode": {
    "name": "ipython",
    "version": 3
   },
   "file_extension": ".py",
   "mimetype": "text/x-python",
   "name": "python",
   "nbconvert_exporter": "python",
   "pygments_lexer": "ipython3",
   "version": "3.9.7"
  }
 },
 "nbformat": 4,
 "nbformat_minor": 5
}
