{
 "cells": [
  {
   "cell_type": "code",
   "execution_count": 6,
   "source": [
    "!pip install --quiet spacy"
   ],
   "outputs": [
    {
     "output_type": "stream",
     "name": "stderr",
     "text": [
      "WARNING: You are using pip version 21.2.3; however, version 21.2.4 is available.\n",
      "You should consider upgrading via the 'C:\\Users\\techn\\git\\giz-policy\\venv\\Scripts\\python.exe -m pip install --upgrade pip' command.\n"
     ]
    }
   ],
   "metadata": {}
  },
  {
   "cell_type": "code",
   "execution_count": 7,
   "source": [
    "import nltk, spacy\r\n",
    "\r\n",
    "nltk.download('wordnet')\r\n",
    "nltk.download('stopwords')\r\n",
    "\r\n",
    "parser = spacy.load('en_core_web_sm')\r\n",
    "\r\n",
    "def tokenize(text):\r\n",
    "    \r\n",
    "    tokens = parser(text)\r\n",
    "    lda_tokens = [t for t in tokens if not t.orth_.isspace()]\r\n",
    "    \r\n",
    "    return lda_tokens\r\n",
    "    \r\n",
    "\r\n",
    "from nltk.corpus import wordnet as wn\r\n",
    "def get_lemma(word):\r\n",
    "    '''\r\n",
    "    Gets the root of a word\r\n",
    "    \r\n",
    "    Args:\r\n",
    "        word (str): a word to find root of\r\n",
    "        \r\n",
    "    Returns:\r\n",
    "        lemma (str): the root of a given word\r\n",
    "    '''\r\n",
    "    lemma = wn.morphy(word)\r\n",
    "    if lemma is None:\r\n",
    "        return word\r\n",
    "    else:\r\n",
    "        return lemma\r\n",
    "    \r\n",
    "from nltk.stem.wordnet import WordNetLemmatizer\r\n",
    "def get_lemma2(word):\r\n",
    "    return WordNetLemmatizer().lemmatize(word)\r\n",
    "\r\n",
    "en_stop = set(nltk.corpus.stopwords.words('english'))"
   ],
   "outputs": [
    {
     "output_type": "stream",
     "name": "stderr",
     "text": [
      "[nltk_data] Downloading package wordnet to\n",
      "[nltk_data]     C:\\Users\\techn\\AppData\\Roaming\\nltk_data...\n",
      "[nltk_data]   Package wordnet is already up-to-date!\n",
      "[nltk_data] Downloading package stopwords to\n",
      "[nltk_data]     C:\\Users\\techn\\AppData\\Roaming\\nltk_data...\n",
      "[nltk_data]   Package stopwords is already up-to-date!\n"
     ]
    }
   ],
   "metadata": {}
  },
  {
   "cell_type": "code",
   "execution_count": 8,
   "source": [
    "tokenize(\"the quick brown fox\")"
   ],
   "outputs": [
    {
     "output_type": "execute_result",
     "data": {
      "text/plain": [
       "[the, quick, brown, fox]"
      ]
     },
     "metadata": {},
     "execution_count": 8
    }
   ],
   "metadata": {}
  },
  {
   "cell_type": "code",
   "execution_count": 9,
   "source": [
    "def prepare_text_for_lda(text):\r\n",
    "    def screen(tok):\r\n",
    "        return len(tok) > 4 and tok not in en_stop\r\n",
    "    \r\n",
    "    # this is probably not the best way to do this, look for native spacy functionality to replace\r\n",
    "    tokens = [get_lemma(str(token)) for token in tokenize(text) if screen(token)]\r\n",
    "    return tokens"
   ],
   "outputs": [],
   "metadata": {}
  },
  {
   "cell_type": "code",
   "execution_count": 10,
   "source": [
    "prepare_text_for_lda(\"the quick brown fox jumped over the lazy dog\")"
   ],
   "outputs": [
    {
     "output_type": "execute_result",
     "data": {
      "text/plain": [
       "['quick', 'brown', 'jump']"
      ]
     },
     "metadata": {},
     "execution_count": 10
    }
   ],
   "metadata": {}
  },
  {
   "cell_type": "code",
   "execution_count": null,
   "source": [],
   "outputs": [],
   "metadata": {}
  }
 ],
 "metadata": {
  "kernelspec": {
   "name": "python3",
   "display_name": "Python 3.9.7 64-bit ('venv': venv)"
  },
  "language_info": {
   "codemirror_mode": {
    "name": "ipython",
    "version": 3
   },
   "file_extension": ".py",
   "mimetype": "text/x-python",
   "name": "python",
   "nbconvert_exporter": "python",
   "pygments_lexer": "ipython3",
   "version": "3.9.7"
  },
  "interpreter": {
   "hash": "75547552c603f22400c6f6e0e4ad2ade15359435e000e6746c53241e37331409"
  }
 },
 "nbformat": 4,
 "nbformat_minor": 5
}