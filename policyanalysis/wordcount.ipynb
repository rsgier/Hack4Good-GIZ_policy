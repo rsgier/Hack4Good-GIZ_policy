{
 "cells": [
  {
   "cell_type": "markdown",
   "metadata": {},
   "source": [
    "# Prototype of a frequency counter"
   ]
  },
  {
   "cell_type": "code",
   "execution_count": 13,
   "metadata": {},
   "outputs": [],
   "source": [
    "from policyanalysis import models, nlptools\n"
   ]
  },
  {
   "cell_type": "markdown",
   "metadata": {},
   "source": [
    "## Populate analysis objects with data"
   ]
  },
  {
   "cell_type": "code",
   "execution_count": 14,
   "metadata": {},
   "outputs": [],
   "source": [
    "document = importer.TextImporter(\"filetocount.txt\")\n",
    "tokens = document.nltk_tokenize_text()\n",
    "counter = wordcount.WordCount(tokens)\n"
   ]
  },
  {
   "cell_type": "markdown",
   "metadata": {},
   "source": [
    "## Get frequency analysis"
   ]
  },
  {
   "cell_type": "code",
   "execution_count": 16,
   "metadata": {},
   "outputs": [
    {
     "name": "stdout",
     "output_type": "stream",
     "text": [
      "there are 38 words in the loaded file\n",
      "<bound method Counter.most_common of FreqDist({'a': 5, 'fox': 3, 'and': 3, 'brown': 2, 'over': 2, 'ran': 2, 'into': 2, 'The': 1, 'quick': 1, 'jumped': 1, ...})>\n"
     ]
    }
   ],
   "source": [
    "number_of_words = counter.get_total_token_count()\n",
    "print(f\"there are {number_of_words} words in the loaded file\")\n",
    "freq_table = counter.get_frequency_table()\n",
    "print(freq_table.most_common)"
   ]
  }
 ],
 "metadata": {
  "interpreter": {
   "hash": "75547552c603f22400c6f6e0e4ad2ade15359435e000e6746c53241e37331409"
  },
  "kernelspec": {
   "display_name": "Python 3.9.7 64-bit ('venv': venv)",
   "name": "python3"
  },
  "language_info": {
   "codemirror_mode": {
    "name": "ipython",
    "version": 3
   },
   "file_extension": ".py",
   "mimetype": "text/x-python",
   "name": "python",
   "nbconvert_exporter": "python",
   "pygments_lexer": "ipython3",
   "version": "3.9.7"
  },
  "orig_nbformat": 4
 },
 "nbformat": 4,
 "nbformat_minor": 2
}
