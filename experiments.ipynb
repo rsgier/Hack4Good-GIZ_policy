{
 "cells": [
  {
   "cell_type": "code",
   "execution_count": 16,
   "metadata": {},
   "outputs": [],
   "source": [
    "import spacy\n",
    "from spacy.tokens import Span\n",
    "from policyanalysis.nlptools.correlation import KeywordCorrelator\n",
    "nlp = spacy.load(\"en_core_web_sm\")\n",
    "tfhub_url = \"https://tfhub.dev/google/universal-sentence-encoder/4\"\n",
    "\n",
    "KeywordCorrelator.add_span_subject_correlator(\"quick_foxes\", [\"Brown foxes are quick\"])\n",
    "KeywordCorrelator.add_span_subject_correlator(\"lazy_animals\", ['some animals are lazy'])"
   ]
  },
  {
   "cell_type": "code",
   "execution_count": 19,
   "metadata": {},
   "outputs": [
    {
     "name": "stdout",
     "output_type": "stream",
     "text": [
      "The quick brown fox 0.6648871\n",
      "jumped over the lazy 0.361911\n"
     ]
    }
   ],
   "source": [
    "\n",
    "threegram_sugg = spacy.pipeline.spancat.build_ngram_suggester([3])\n",
    "doc = nlp(\"The quick brown fox jumped over the lazy dog. Another lazy dog went by. What happened next? We do not know.\")\n",
    "n_gram_size = 7\n",
    "\n",
    "def get_n_gram_tuples(size, doc_len):\n",
    "    return [(i, i+size) for i in range(doc_len-size+1)]\n",
    "\n",
    "# tuples = get_n_gram_tuples(n_gram_size, len(doc))\n",
    "# for t in tuples:\n",
    "#     s = doc[t[0]:t[1]]\n",
    "#     print(s._.span_kwd_corr)\n",
    "print(doc[0:4].text, doc[0:4]._.quick_foxes)\n",
    "print(doc[4:8].text, doc[4:8]._.lazy_animals)\n"
   ]
  },
  {
   "cell_type": "code",
   "execution_count": 3,
   "metadata": {},
   "outputs": [],
   "source": [
    "from typing import List"
   ]
  },
  {
   "cell_type": "code",
   "execution_count": 37,
   "metadata": {},
   "outputs": [],
   "source": [
    "def entity_tagger(doc, spans: List, threshold, corr_attr_key, entity_tag):\n",
    "    good_spans = []\n",
    "    \n",
    "    spans = [s for s in spans if s._.get(corr_attr_key) > threshold]\n",
    "    # for s in spans:\n",
    "    #     if s._.get(corr_attr_key) > threshold:\n",
    "    #         good_spans.append(Span(doc, s.start, s.end, label=entity_tag))\n",
    "    \n",
    "    # s = spans.pop(0)\n",
    "    # ent_start = s.start\n",
    "    # ent_end = s.end\n",
    "    # while len(spans) > 0:\n",
    "    #     s = spans.pop(0)\n",
    "    #     if s.start > ent_end:\n",
    "    #         good_spans.append(Span(doc, ent_start, ent_end, label=entity_tag))\n",
    "    #         ent_start = s.start\n",
    "    #         ent_end = s.end\n",
    "    #     else:\n",
    "    #         ent_end = s.end\n",
    "    # good_spans.append(Span(doc, ent_start, ent_end, label=entity_tag))\n",
    "\n",
    "    for s in spans:\n",
    "        try: \n",
    "            doc.ents = list(doc.ents) + [Span(doc, s.start, s.end, label=entity_tag)]\n",
    "        except:\n",
    "            pass"
   ]
  },
  {
   "cell_type": "code",
   "execution_count": 49,
   "metadata": {},
   "outputs": [
    {
     "data": {
      "text/plain": [
       "[The quick brown fox,\n",
       " quick brown fox jumped,\n",
       " brown fox jumped over,\n",
       " fox jumped over the,\n",
       " jumped over the lazy,\n",
       " over the lazy dog,\n",
       " the lazy dog.,\n",
       " lazy dog. Another,\n",
       " dog. Another lazy,\n",
       " . Another lazy dog,\n",
       " Another lazy dog went,\n",
       " lazy dog went by,\n",
       " dog went by.,\n",
       " went by. What,\n",
       " by. What happened,\n",
       " . What happened next,\n",
       " What happened next?,\n",
       " happened next? We,\n",
       " next? We do,\n",
       " ? We do not,\n",
       " We do not know,\n",
       " do not know.]"
      ]
     },
     "execution_count": 49,
     "metadata": {},
     "output_type": "execute_result"
    }
   ],
   "source": [
    "# doc.ents = list(doc.ents) + [Span(doc, 0, 3, label=\"GOOD\")]\n",
    "doc.ents = []\n",
    "n_gram_spans = [doc[t[0]:t[1]] for t in get_n_gram_tuples(4, len(doc))]\n",
    "n_gram_spans"
   ]
  },
  {
   "cell_type": "code",
   "execution_count": 50,
   "metadata": {},
   "outputs": [],
   "source": [
    "entity_tagger(doc, n_gram_spans, 0.35, 'quick_foxes', \"FAST\")\n",
    "entity_tagger(doc, n_gram_spans, 0.35, 'lazy_animals', \"SLOW\")"
   ]
  },
  {
   "cell_type": "code",
   "execution_count": 51,
   "metadata": {},
   "outputs": [
    {
     "name": "stdout",
     "output_type": "stream",
     "text": [
      "The quick brown fox FAST 0.6648871 0.16049126\n",
      "jumped over the lazy SLOW 0.039034665 0.361911\n",
      "dog. Another lazy SLOW 0.15132414 0.5753756\n"
     ]
    },
    {
     "data": {
      "text/plain": [
       "[None, None, None]"
      ]
     },
     "execution_count": 51,
     "metadata": {},
     "output_type": "execute_result"
    }
   ],
   "source": [
    "[print(e.text, e.label_, e._.quick_foxes, e._.lazy_animals)  for e in doc.ents]"
   ]
  },
  {
   "cell_type": "code",
   "execution_count": 61,
   "metadata": {},
   "outputs": [
    {
     "data": {
      "text/html": [
       "<span class=\"tex2jax_ignore\"><div class=\"entities\" style=\"line-height: 2.5; direction: ltr\">fox \n",
       "<mark class=\"entity\" style=\"background: #ddd; padding: 0.45em 0.6em; margin: 0 0.25em; line-height: 1; border-radius: 0.35em;\">\n",
       "    jumped over the lazy\n",
       "    <span style=\"font-size: 0.8em; font-weight: bold; line-height: 1; border-radius: 0.35em; vertical-align: middle; margin-left: 0.5rem\">SLOW</span>\n",
       "</mark>\n",
       " \n",
       "<mark class=\"entity\" style=\"background: #ddd; padding: 0.45em 0.6em; margin: 0 0.25em; line-height: 1; border-radius: 0.35em;\">\n",
       "    dog. Another lazy\n",
       "    <span style=\"font-size: 0.8em; font-weight: bold; line-height: 1; border-radius: 0.35em; vertical-align: middle; margin-left: 0.5rem\">SLOW</span>\n",
       "</mark>\n",
       " dog went by. What happened next? We do not know.</div></span>"
      ],
      "text/plain": [
       "<IPython.core.display.HTML object>"
      ]
     },
     "metadata": {},
     "output_type": "display_data"
    },
    {
     "data": {
      "text/html": [
       "<span class=\"tex2jax_ignore\"><div class=\"entities\" style=\"line-height: 2.5; direction: ltr\">\n",
       "<mark class=\"entity\" style=\"background: #ddd; padding: 0.45em 0.6em; margin: 0 0.25em; line-height: 1; border-radius: 0.35em;\">\n",
       "    The quick brown fox\n",
       "    <span style=\"font-size: 0.8em; font-weight: bold; line-height: 1; border-radius: 0.35em; vertical-align: middle; margin-left: 0.5rem\">FAST</span>\n",
       "</mark>\n",
       " \n",
       "<mark class=\"entity\" style=\"background: #ddd; padding: 0.45em 0.6em; margin: 0 0.25em; line-height: 1; border-radius: 0.35em;\">\n",
       "    jumped over the lazy\n",
       "    <span style=\"font-size: 0.8em; font-weight: bold; line-height: 1; border-radius: 0.35em; vertical-align: middle; margin-left: 0.5rem\">SLOW</span>\n",
       "</mark>\n",
       " \n",
       "<mark class=\"entity\" style=\"background: #ddd; padding: 0.45em 0.6em; margin: 0 0.25em; line-height: 1; border-radius: 0.35em;\">\n",
       "    dog. Another lazy\n",
       "    <span style=\"font-size: 0.8em; font-weight: bold; line-height: 1; border-radius: 0.35em; vertical-align: middle; margin-left: 0.5rem\">SLOW</span>\n",
       "</mark>\n",
       " dog went by. What happened next? We do not know.</div></span>"
      ],
      "text/plain": [
       "<IPython.core.display.HTML object>"
      ]
     },
     "metadata": {},
     "output_type": "display_data"
    }
   ],
   "source": [
    "from spacy import displacy\n",
    "\n",
    "displacy.render(doc[3:], style=\"ent\")\n",
    "displacy.render(doc, style='ent')"
   ]
  }
 ],
 "metadata": {
  "interpreter": {
   "hash": "75547552c603f22400c6f6e0e4ad2ade15359435e000e6746c53241e37331409"
  },
  "kernelspec": {
   "display_name": "Python 3.9.7 64-bit ('venv': venv)",
   "language": "python",
   "name": "python3"
  },
  "language_info": {
   "codemirror_mode": {
    "name": "ipython",
    "version": 3
   },
   "file_extension": ".py",
   "mimetype": "text/x-python",
   "name": "python",
   "nbconvert_exporter": "python",
   "pygments_lexer": "ipython3",
   "version": "3.9.7"
  },
  "orig_nbformat": 4
 },
 "nbformat": 4,
 "nbformat_minor": 2
}
