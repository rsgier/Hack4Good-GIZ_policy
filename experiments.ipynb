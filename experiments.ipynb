{
 "cells": [
  {
   "cell_type": "code",
   "execution_count": 1,
   "metadata": {},
   "outputs": [],
   "source": [
    "import spacy\n",
    "from spacy.tokens import Span\n",
    "from policyanalysis.nlptools.correlation import KeywordCorrelator, entity_correlation_tagger, TokenArrayCorrelator\n",
    "nlp = spacy.load(\"en_core_web_sm\")\n",
    "tfhub_url = \"https://tfhub.dev/google/universal-sentence-encoder/4\"\n"
   ]
  },
  {
   "cell_type": "code",
   "execution_count": 2,
   "metadata": {},
   "outputs": [
    {
     "name": "stdout",
     "output_type": "stream",
     "text": [
      "[The, quick, brown, fox]\n",
      "The quick brown FAST\n",
      "jumped over the SLOW\n"
     ]
    },
    {
     "data": {
      "text/plain": [
       "[None, None]"
      ]
     },
     "execution_count": 2,
     "metadata": {},
     "output_type": "execute_result"
    }
   ],
   "source": [
    "doc = nlp(\"The quick brown fox jumped over the lazy dog. Another lazy dog went by. What happened next? We do not know.\")\n",
    "tokens = [t for t in doc[0:4]]\n",
    "print(tokens)\n",
    "corr = TokenArrayCorrelator([\"Brown foxes are quick\"], 0.35, \"FAST\")\n",
    "slow_corr = TokenArrayCorrelator([\"some animals are lazy\"], 0.35, \"SLOW\")\n",
    "corr(doc, tokens)\n",
    "slow_corr(doc, [t for t in doc[4:8]])\n",
    "[print(e.text, e.label_) for e in doc.ents]\n"
   ]
  },
  {
   "cell_type": "code",
   "execution_count": 3,
   "metadata": {},
   "outputs": [
    {
     "name": "stdout",
     "output_type": "stream",
     "text": [
      "The quick brown fox 0.6648871\n",
      "jumped over the lazy 0.361911\n"
     ]
    }
   ],
   "source": [
    "\n",
    "KeywordCorrelator.add_span_subject_correlator(\"quick_foxes\", [\"Brown foxes are quick\"])\n",
    "KeywordCorrelator.add_span_subject_correlator(\"lazy_animals\", ['some animals are lazy'])\n",
    "threegram_sugg = spacy.pipeline.spancat.build_ngram_suggester([3])\n",
    "n_gram_size = 7\n",
    "\n",
    "def get_n_gram_tuples(size, doc_len):\n",
    "    return [(i, i+size) for i in range(doc_len-size+1)]\n",
    "\n",
    "print(doc[0:4].text, doc[0:4]._.quick_foxes)\n",
    "print(doc[4:8].text, doc[4:8]._.lazy_animals)\n"
   ]
  },
  {
   "cell_type": "code",
   "execution_count": 4,
   "metadata": {},
   "outputs": [],
   "source": [
    "from typing import List"
   ]
  },
  {
   "cell_type": "code",
   "execution_count": 5,
   "metadata": {},
   "outputs": [],
   "source": [
    "# doc.ents = list(doc.ents) + [Span(doc, 0, 3, label=\"GOOD\")]\n",
    "doc.ents = []\n",
    "n_gram_spans = [doc[t[0]:t[1]] for t in get_n_gram_tuples(4, len(doc))]"
   ]
  },
  {
   "cell_type": "code",
   "execution_count": 6,
   "metadata": {},
   "outputs": [],
   "source": [
    "entity_correlation_tagger(doc, n_gram_spans, 0.35, 'quick_foxes', \"FAST\")\n",
    "entity_correlation_tagger(doc, n_gram_spans, 0.35, 'lazy_animals', \"SLOW\")"
   ]
  },
  {
   "cell_type": "code",
   "execution_count": 7,
   "metadata": {},
   "outputs": [
    {
     "name": "stdout",
     "output_type": "stream",
     "text": [
      "The quick brown fox FAST 0.6648871 0.16049126\n",
      "jumped over the lazy SLOW 0.039034665 0.361911\n",
      "dog. Another lazy SLOW 0.15132414 0.5753756\n"
     ]
    },
    {
     "data": {
      "text/plain": [
       "[None, None, None]"
      ]
     },
     "execution_count": 7,
     "metadata": {},
     "output_type": "execute_result"
    }
   ],
   "source": [
    "[print(e.text, e.label_, e._.quick_foxes, e._.lazy_animals)  for e in doc.ents]"
   ]
  },
  {
   "cell_type": "code",
   "execution_count": 8,
   "metadata": {},
   "outputs": [
    {
     "data": {
      "text/html": [
       "<span class=\"tex2jax_ignore\"><div class=\"entities\" style=\"line-height: 2.5; direction: ltr\">fox \n",
       "<mark class=\"entity\" style=\"background: #ddd; padding: 0.45em 0.6em; margin: 0 0.25em; line-height: 1; border-radius: 0.35em;\">\n",
       "    jumped over the lazy\n",
       "    <span style=\"font-size: 0.8em; font-weight: bold; line-height: 1; border-radius: 0.35em; vertical-align: middle; margin-left: 0.5rem\">SLOW</span>\n",
       "</mark>\n",
       " \n",
       "<mark class=\"entity\" style=\"background: #ddd; padding: 0.45em 0.6em; margin: 0 0.25em; line-height: 1; border-radius: 0.35em;\">\n",
       "    dog. Another lazy\n",
       "    <span style=\"font-size: 0.8em; font-weight: bold; line-height: 1; border-radius: 0.35em; vertical-align: middle; margin-left: 0.5rem\">SLOW</span>\n",
       "</mark>\n",
       " dog went by. What happened next? We do not know.</div></span>"
      ],
      "text/plain": [
       "<IPython.core.display.HTML object>"
      ]
     },
     "metadata": {},
     "output_type": "display_data"
    },
    {
     "data": {
      "text/html": [
       "<span class=\"tex2jax_ignore\"><div class=\"entities\" style=\"line-height: 2.5; direction: ltr\">\n",
       "<mark class=\"entity\" style=\"background: #ddd; padding: 0.45em 0.6em; margin: 0 0.25em; line-height: 1; border-radius: 0.35em;\">\n",
       "    The quick brown fox\n",
       "    <span style=\"font-size: 0.8em; font-weight: bold; line-height: 1; border-radius: 0.35em; vertical-align: middle; margin-left: 0.5rem\">FAST</span>\n",
       "</mark>\n",
       " \n",
       "<mark class=\"entity\" style=\"background: #ddd; padding: 0.45em 0.6em; margin: 0 0.25em; line-height: 1; border-radius: 0.35em;\">\n",
       "    jumped over the lazy\n",
       "    <span style=\"font-size: 0.8em; font-weight: bold; line-height: 1; border-radius: 0.35em; vertical-align: middle; margin-left: 0.5rem\">SLOW</span>\n",
       "</mark>\n",
       " \n",
       "<mark class=\"entity\" style=\"background: #ddd; padding: 0.45em 0.6em; margin: 0 0.25em; line-height: 1; border-radius: 0.35em;\">\n",
       "    dog. Another lazy\n",
       "    <span style=\"font-size: 0.8em; font-weight: bold; line-height: 1; border-radius: 0.35em; vertical-align: middle; margin-left: 0.5rem\">SLOW</span>\n",
       "</mark>\n",
       " dog went by. What happened next? We do not know.</div></span>"
      ],
      "text/plain": [
       "<IPython.core.display.HTML object>"
      ]
     },
     "metadata": {},
     "output_type": "display_data"
    }
   ],
   "source": [
    "from spacy import displacy\n",
    "\n",
    "displacy.render(doc[3:], style=\"ent\")\n",
    "displacy.render(doc, style='ent')"
   ]
  },
  {
   "cell_type": "code",
   "execution_count": 9,
   "metadata": {},
   "outputs": [],
   "source": [
    "import json\n",
    "from policyanalysis.nlptools import importer\n",
    "exampledoc = importer.TextImporter(\"texts/AnnualReport2017-2018.txt\")\n",
    "with open(\"ndc_keywords/ndc_south_africa.json\") as f:\n",
    "    kwds = json.load(f)"
   ]
  },
  {
   "cell_type": "code",
   "execution_count": 10,
   "metadata": {},
   "outputs": [],
   "source": [
    "KeywordCorrelator.add_span_subject_correlator(\"climate_corr\", keywords=kwds['climate change'])"
   ]
  },
  {
   "cell_type": "code",
   "execution_count": 11,
   "metadata": {},
   "outputs": [],
   "source": [
    "doc = nlp(exampledoc.text)\n",
    "n_gram_spans = [doc[t[0]:t[1]] for t in get_n_gram_tuples(4, len(doc))]\n"
   ]
  },
  {
   "cell_type": "code",
   "execution_count": 12,
   "metadata": {},
   "outputs": [],
   "source": [
    "len(n_gram_spans)\n",
    "doc.ents = []"
   ]
  },
  {
   "cell_type": "code",
   "execution_count": 13,
   "metadata": {},
   "outputs": [],
   "source": [
    "entity_correlation_tagger(doc, n_gram_spans[::4], 0.7, 'climate_corr', \"CLIMATE\")"
   ]
  },
  {
   "cell_type": "code",
   "execution_count": 14,
   "metadata": {},
   "outputs": [
    {
     "data": {
      "text/plain": [
       "0.7091955"
      ]
     },
     "execution_count": 14,
     "metadata": {},
     "output_type": "execute_result"
    }
   ],
   "source": [
    "doc.ents[9]._.climate_corr"
   ]
  },
  {
   "cell_type": "code",
   "execution_count": 15,
   "metadata": {},
   "outputs": [
    {
     "data": {
      "text/plain": [
       "(Budget Office\n",
       " SADC,\n",
       " the\n",
       " African Development,\n",
       " Budget Office\n",
       " (,\n",
       " Development, and the,\n",
       " development of the project,\n",
       " the development of the,\n",
       " for\n",
       " Sustainable Development,\n",
       " \n",
       " Economic Development,,\n",
       " and\n",
       " Transcription System,\n",
       " budget slowed\n",
       " the,\n",
       " budget advice.,\n",
       " Budget Reports\n",
       " 2015/16,\n",
       " Budget Actual\n",
       " amounts)"
      ]
     },
     "execution_count": 15,
     "metadata": {},
     "output_type": "execute_result"
    }
   ],
   "source": [
    "KeywordCorrelator.add_span_subject_correlator('warning_corr', keywords=kwds['early warning'])\n",
    "entity_correlation_tagger(doc, n_gram_spans[::4], 0.7,  'warning_corr', \"WARNING\")\n",
    "doc.ents\n",
    "\n"
   ]
  },
  {
   "cell_type": "code",
   "execution_count": 16,
   "metadata": {},
   "outputs": [
    {
     "data": {
      "text/html": [
       "<span class=\"tex2jax_ignore\"><div class=\"entities\" style=\"line-height: 2.5; direction: ltr\">of Government Business\r</br>PAIA Promotion of Access to Information Act\r</br>PAP Pan-African Parliament\r</br>PBO Parliamentary \n",
       "<mark class=\"entity\" style=\"background: #ddd; padding: 0.45em 0.6em; margin: 0 0.25em; line-height: 1; border-radius: 0.35em;\">\n",
       "    Budget Office\r\n",
       "SADC\n",
       "    <span style=\"font-size: 0.8em; font-weight: bold; line-height: 1; border-radius: 0.35em; vertical-align: middle; margin-left: 0.5rem\">CLIMATE</span>\n",
       "</mark>\n",
       "-PF Southern African Development Community Parliamentary Forum\r</br>SALS South African Legislative Sector\r</br>SALSA Secretaries’ Association of </div></span>"
      ],
      "text/plain": [
       "<IPython.core.display.HTML object>"
      ]
     },
     "metadata": {},
     "output_type": "display_data"
    },
    {
     "data": {
      "text/html": [
       "<span class=\"tex2jax_ignore\"><div class=\"entities\" style=\"line-height: 2.5; direction: ltr\">But now, things are changing for the better and, as the International Monetary Fund (IMF) and \n",
       "<mark class=\"entity\" style=\"background: #ddd; padding: 0.45em 0.6em; margin: 0 0.25em; line-height: 1; border-radius: 0.35em;\">\n",
       "    the\r\n",
       "African Development\n",
       "    <span style=\"font-size: 0.8em; font-weight: bold; line-height: 1; border-radius: 0.35em; vertical-align: middle; margin-left: 0.5rem\">CLIMATE</span>\n",
       "</mark>\n",
       " Bank pointed out, the global economic outlook looks promising - with better\r</br>prospects for countries like ours. </div></span>"
      ],
      "text/plain": [
       "<IPython.core.display.HTML object>"
      ]
     },
     "metadata": {},
     "output_type": "display_data"
    },
    {
     "data": {
      "text/html": [
       "<span class=\"tex2jax_ignore\"><div class=\"entities\" style=\"line-height: 2.5; direction: ltr\">Table 2: Offices reporting to the Executive Authority\r</br>Name of entity Legislation Nature of Business\r</br>Parliamentary\r</br>\n",
       "<mark class=\"entity\" style=\"background: #ddd; padding: 0.45em 0.6em; margin: 0 0.25em; line-height: 1; border-radius: 0.35em;\">\n",
       "    Budget Office\r\n",
       "(\n",
       "    <span style=\"font-size: 0.8em; font-weight: bold; line-height: 1; border-radius: 0.35em; vertical-align: middle; margin-left: 0.5rem\">CLIMATE</span>\n",
       "</mark>\n",
       "PBO)\r</br>Money Bills Amendment\r</br>Procedure and Related\r</br>Matters Act, 2009 (Act\r</br>No. </div></span>"
      ],
      "text/plain": [
       "<IPython.core.display.HTML object>"
      ]
     },
     "metadata": {},
     "output_type": "display_data"
    },
    {
     "data": {
      "text/html": [
       "<span class=\"tex2jax_ignore\"><div class=\"entities\" style=\"line-height: 2.5; direction: ltr\">\r</br>included inquiries into the South African Broadcasting Corporation (SABC), ESKOM, the Department of\r</br>Social \n",
       "<mark class=\"entity\" style=\"background: #ddd; padding: 0.45em 0.6em; margin: 0 0.25em; line-height: 1; border-radius: 0.35em;\">\n",
       "    Development, and the\n",
       "    <span style=\"font-size: 0.8em; font-weight: bold; line-height: 1; border-radius: 0.35em; vertical-align: middle; margin-left: 0.5rem\">CLIMATE</span>\n",
       "</mark>\n",
       " matter of political party funding. The inquiries became key features for\r</br>the 5th Parliament, ensuring improved scrutiny </div></span>"
      ],
      "text/plain": [
       "<IPython.core.display.HTML object>"
      ]
     },
     "metadata": {},
     "output_type": "display_data"
    },
    {
     "data": {
      "text/html": [
       "<span class=\"tex2jax_ignore\"><div class=\"entities\" style=\"line-height: 2.5; direction: ltr\">A business case for the establishment of the Parliamentary Institute developed and approved.\r</br>This was followed by the \n",
       "<mark class=\"entity\" style=\"background: #ddd; padding: 0.45em 0.6em; margin: 0 0.25em; line-height: 1; border-radius: 0.35em;\">\n",
       "    development of the project\n",
       "    <span style=\"font-size: 0.8em; font-weight: bold; line-height: 1; border-radius: 0.35em; vertical-align: middle; margin-left: 0.5rem\">CLIMATE</span>\n",
       "</mark>\n",
       " plan and further research and benchmarking\r</br>and \n",
       "<mark class=\"entity\" style=\"background: #ddd; padding: 0.45em 0.6em; margin: 0 0.25em; line-height: 1; border-radius: 0.35em;\">\n",
       "    the development of the\n",
       "    <span style=\"font-size: 0.8em; font-weight: bold; line-height: 1; border-radius: 0.35em; vertical-align: middle; margin-left: 0.5rem\">CLIMATE</span>\n",
       "</mark>\n",
       " implementation plan.\r</br>• Sector Tool and </div></span>"
      ],
      "text/plain": [
       "<IPython.core.display.HTML object>"
      ]
     },
     "metadata": {},
     "output_type": "display_data"
    },
    {
     "data": {
      "text/html": [
       "<span class=\"tex2jax_ignore\"><div class=\"entities\" style=\"line-height: 2.5; direction: ltr\">approved.\r</br>This was followed by the \n",
       "<mark class=\"entity\" style=\"background: #ddd; padding: 0.45em 0.6em; margin: 0 0.25em; line-height: 1; border-radius: 0.35em;\">\n",
       "    development of the project\n",
       "    <span style=\"font-size: 0.8em; font-weight: bold; line-height: 1; border-radius: 0.35em; vertical-align: middle; margin-left: 0.5rem\">CLIMATE</span>\n",
       "</mark>\n",
       " plan and further research and benchmarking\r</br>and \n",
       "<mark class=\"entity\" style=\"background: #ddd; padding: 0.45em 0.6em; margin: 0 0.25em; line-height: 1; border-radius: 0.35em;\">\n",
       "    the development of the\n",
       "    <span style=\"font-size: 0.8em; font-weight: bold; line-height: 1; border-radius: 0.35em; vertical-align: middle; margin-left: 0.5rem\">CLIMATE</span>\n",
       "</mark>\n",
       " implementation plan.\r</br>• Sector Tool and Template, identifying NDP Oversight Pillars and associated Sector NDP Priorities\r</br></div></span>"
      ],
      "text/plain": [
       "<IPython.core.display.HTML object>"
      ]
     },
     "metadata": {},
     "output_type": "display_data"
    },
    {
     "data": {
      "text/html": [
       "<span class=\"tex2jax_ignore\"><div class=\"entities\" style=\"line-height: 2.5; direction: ltr\">231(2)\r</br>include the following:\r</br>• Southern African Development Community (SADC) Protocol on Environmental Management \n",
       "<mark class=\"entity\" style=\"background: #ddd; padding: 0.45em 0.6em; margin: 0 0.25em; line-height: 1; border-radius: 0.35em;\">\n",
       "    for\r\n",
       "Sustainable Development\n",
       "    <span style=\"font-size: 0.8em; font-weight: bold; line-height: 1; border-radius: 0.35em; vertical-align: middle; margin-left: 0.5rem\">CLIMATE</span>\n",
       "</mark>\n",
       ", tabled in terms of section 231(2) o f the Constitution, 1996.\r</br>• Agreement Amending Annex </div></span>"
      ],
      "text/plain": [
       "<IPython.core.display.HTML object>"
      ]
     },
     "metadata": {},
     "output_type": "display_data"
    },
    {
     "data": {
      "text/html": [
       "<span class=\"tex2jax_ignore\"><div class=\"entities\" style=\"line-height: 2.5; direction: ltr\">Pacific (ACP)\r</br>Region - European Union Joint\r</br>Parliamentary Assembly: Member\r</br>&amp; Standing Committee on\n",
       "<mark class=\"entity\" style=\"background: #ddd; padding: 0.45em 0.6em; margin: 0 0.25em; line-height: 1; border-radius: 0.35em;\">\n",
       "    \r\n",
       "Economic Development,\n",
       "    <span style=\"font-size: 0.8em; font-weight: bold; line-height: 1; border-radius: 0.35em; vertical-align: middle; margin-left: 0.5rem\">CLIMATE</span>\n",
       "</mark>\n",
       " Finance\r</br>&amp; Trade Co-Chairperson\r</br>SADC-PF: Standing Committee on\r</br>Human and Social Development</div></span>"
      ],
      "text/plain": [
       "<IPython.core.display.HTML object>"
      ]
     },
     "metadata": {},
     "output_type": "display_data"
    },
    {
     "data": {
      "text/html": [
       "<span class=\"tex2jax_ignore\"><div class=\"entities\" style=\"line-height: 2.5; direction: ltr\">, transcribe,\r</br>collate and publish the proceedings, and archive these materials for future reference. The Digital \n",
       "<mark class=\"entity\" style=\"background: #ddd; padding: 0.45em 0.6em; margin: 0 0.25em; line-height: 1; border-radius: 0.35em;\">\n",
       "    and\r\n",
       "Transcription System\n",
       "    <span style=\"font-size: 0.8em; font-weight: bold; line-height: 1; border-radius: 0.35em; vertical-align: middle; margin-left: 0.5rem\">CLIMATE</span>\n",
       "</mark>\n",
       " project will implement a new state-of-the-art digital recording and transcription\r</br>system to replace </div></span>"
      ],
      "text/plain": [
       "<IPython.core.display.HTML object>"
      ]
     },
     "metadata": {},
     "output_type": "display_data"
    },
    {
     "data": {
      "text/html": [
       "<span class=\"tex2jax_ignore\"><div class=\"entities\" style=\"line-height: 2.5; direction: ltr\">a media asset management\r</br>system for archiving, storage and distribution of Parliament media assets. While lack of \n",
       "<mark class=\"entity\" style=\"background: #ddd; padding: 0.45em 0.6em; margin: 0 0.25em; line-height: 1; border-radius: 0.35em;\">\n",
       "    budget slowed\r\n",
       "the\n",
       "    <span style=\"font-size: 0.8em; font-weight: bold; line-height: 1; border-radius: 0.35em; vertical-align: middle; margin-left: 0.5rem\">CLIMATE</span>\n",
       "</mark>\n",
       " implementation of this initiative, an interim storage solution was implemented which could be\r</br>replaced by the media as </div></span>"
      ],
      "text/plain": [
       "<IPython.core.display.HTML object>"
      ]
     },
     "metadata": {},
     "output_type": "display_data"
    },
    {
     "data": {
      "text/html": [
       "<span class=\"tex2jax_ignore\"><div class=\"entities\" style=\"line-height: 2.5; direction: ltr\">declined\r</br>during the 2016/17 financial year, but have risen in 2017/18 due to increased demand for evidencebased\r</br>\n",
       "<mark class=\"entity\" style=\"background: #ddd; padding: 0.45em 0.6em; margin: 0 0.25em; line-height: 1; border-radius: 0.35em;\">\n",
       "    budget advice.\r\n",
       "\n",
       "    <span style=\"font-size: 0.8em; font-weight: bold; line-height: 1; border-radius: 0.35em; vertical-align: middle; margin-left: 0.5rem\">CLIMATE</span>\n",
       "</mark>\n",
       "Graph 7: Number of Analytical Budget Reports – Twelve (12) Quarters\r</br>5\r</br>8\r</br>15</div></span>"
      ],
      "text/plain": [
       "<IPython.core.display.HTML object>"
      ]
     },
     "metadata": {},
     "output_type": "display_data"
    },
    {
     "data": {
      "text/html": [
       "<span class=\"tex2jax_ignore\"><div class=\"entities\" style=\"line-height: 2.5; direction: ltr\">8\r</br>11 9\r</br>4 3\r</br>8\r</br>5\r</br>8\r</br>15 17\r</br>Number of Analytical \n",
       "<mark class=\"entity\" style=\"background: #ddd; padding: 0.45em 0.6em; margin: 0 0.25em; line-height: 1; border-radius: 0.35em;\">\n",
       "    Budget Reports\r\n",
       "2015/16\n",
       "    <span style=\"font-size: 0.8em; font-weight: bold; line-height: 1; border-radius: 0.35em; vertical-align: middle; margin-left: 0.5rem\">CLIMATE</span>\n",
       "</mark>\n",
       " - 2017/18\r</br>Performance Target Variance Poly. (Performance)\r</br>54\r</br>PARLIAMENT OF THE REPUBLIC OF SOUTH </div></span>"
      ],
      "text/plain": [
       "<IPython.core.display.HTML object>"
      ]
     },
     "metadata": {},
     "output_type": "display_data"
    },
    {
     "data": {
      "text/html": [
       "<span class=\"tex2jax_ignore\"><div class=\"entities\" style=\"line-height: 2.5; direction: ltr\">Statement of Comparison of Budget and Actual Amounts\r</br>Budget on Cash Basis\r</br>Approved\r</br>budget\r</br>Adjustments Final \n",
       "<mark class=\"entity\" style=\"background: #ddd; padding: 0.45em 0.6em; margin: 0 0.25em; line-height: 1; border-radius: 0.35em;\">\n",
       "    Budget Actual\r\n",
       "amounts\n",
       "    <span style=\"font-size: 0.8em; font-weight: bold; line-height: 1; border-radius: 0.35em; vertical-align: middle; margin-left: 0.5rem\">CLIMATE</span>\n",
       "</mark>\n",
       " on\r</br>comparable\r</br>basis\r</br>Difference\r</br>between final\r</br>budget and\r</br>actual\r</br>Reference\r</br>R '</div></span>"
      ],
      "text/plain": [
       "<IPython.core.display.HTML object>"
      ]
     },
     "metadata": {},
     "output_type": "display_data"
    }
   ],
   "source": [
    "from spacy import displacy\n",
    "\n",
    "for e in doc.ents:\n",
    "    displacy.render(doc[e.start-20:e.end+20], style='ent')"
   ]
  },
  {
   "cell_type": "code",
   "execution_count": 17,
   "metadata": {},
   "outputs": [],
   "source": [
    "doc = nlp(\"hello world this sentence is full of stop words an apple disappeared\")"
   ]
  },
  {
   "cell_type": "code",
   "execution_count": 18,
   "metadata": {},
   "outputs": [
    {
     "data": {
      "text/plain": [
       "'this of words'"
      ]
     },
     "execution_count": 18,
     "metadata": {},
     "output_type": "execute_result"
    }
   ],
   "source": [
    "toks = []\n",
    "toks = toks + [doc[2], doc[6], doc[8]]\n",
    "\n",
    "\" \".join([str(t) for t in toks])"
   ]
  },
  {
   "cell_type": "code",
   "execution_count": null,
   "metadata": {},
   "outputs": [],
   "source": [
    "from policyanalysis.nlptools.correlation import SpanCorrelator, TokenArrayCorrelator\n",
    "\n",
    "climate_kwds = kwds['climate change']\n",
    "span_correlate = SpanCorrelator(climate_kwds, 0.7, \"CLIMATE\")"
   ]
  }
 ],
 "metadata": {
  "interpreter": {
   "hash": "75547552c603f22400c6f6e0e4ad2ade15359435e000e6746c53241e37331409"
  },
  "kernelspec": {
   "display_name": "Python 3.9.7 64-bit ('venv': venv)",
   "language": "python",
   "name": "python3"
  },
  "language_info": {
   "codemirror_mode": {
    "name": "ipython",
    "version": 3
   },
   "file_extension": ".py",
   "mimetype": "text/x-python",
   "name": "python",
   "nbconvert_exporter": "python",
   "pygments_lexer": "ipython3",
   "version": "3.9.7"
  },
  "orig_nbformat": 4
 },
 "nbformat": 4,
 "nbformat_minor": 2
}
