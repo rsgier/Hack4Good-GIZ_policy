{
 "cells": [
  {
   "cell_type": "code",
   "execution_count": 1,
   "metadata": {},
   "outputs": [],
   "source": [
    "import spacy\n",
    "from spacy.tokens import Span\n",
    "from policyanalysis.nlptools.correlation import KeywordCorrelator, entity_correlation_tagger, TokenArrayCorrelator\n",
    "nlp = spacy.load(\"en_core_web_sm\")\n",
    "tfhub_url = \"https://tfhub.dev/google/universal-sentence-encoder/4\"\n"
   ]
  },
  {
   "cell_type": "code",
   "execution_count": 9,
   "metadata": {},
   "outputs": [
    {
     "name": "stdout",
     "output_type": "stream",
     "text": [
      "[The, quick, brown, fox]\n",
      "The quick brown FAST\n",
      "jumped over the SLOW\n"
     ]
    },
    {
     "data": {
      "text/plain": [
       "[None, None]"
      ]
     },
     "execution_count": 9,
     "metadata": {},
     "output_type": "execute_result"
    }
   ],
   "source": [
    "doc = nlp(\"The quick brown fox jumped over the lazy dog. Another lazy dog went by. What happened next? We do not know.\")\n",
    "tokens = [t for t in doc[0:4]]\n",
    "print(tokens)\n",
    "corr = TokenArrayCorrelator([\"Brown foxes are quick\"], 0.35, \"FAST\")\n",
    "slow_corr = TokenArrayCorrelator([\"some animals are lazy\"], 0.35, \"SLOW\")\n",
    "corr(doc, tokens)\n",
    "slow_corr(doc, [t for t in doc[4:8]])\n",
    "[print(e.text, e.label_) for e in doc.ents]\n"
   ]
  },
  {
   "cell_type": "code",
   "execution_count": null,
   "metadata": {},
   "outputs": [],
   "source": [
    "\n",
    "KeywordCorrelator.add_span_subject_correlator(\"quick_foxes\", [\"Brown foxes are quick\"])\n",
    "KeywordCorrelator.add_span_subject_correlator(\"lazy_animals\", ['some animals are lazy'])\n",
    "threegram_sugg = spacy.pipeline.spancat.build_ngram_suggester([3])\n",
    "n_gram_size = 7\n",
    "\n",
    "def get_n_gram_tuples(size, doc_len):\n",
    "    return [(i, i+size) for i in range(doc_len-size+1)]\n",
    "\n",
    "print(doc[0:4].text, doc[0:4]._.quick_foxes)\n",
    "print(doc[4:8].text, doc[4:8]._.lazy_animals)\n"
   ]
  },
  {
   "cell_type": "code",
   "execution_count": null,
   "metadata": {},
   "outputs": [],
   "source": [
    "from typing import List"
   ]
  },
  {
   "cell_type": "code",
   "execution_count": null,
   "metadata": {},
   "outputs": [],
   "source": [
    "# doc.ents = list(doc.ents) + [Span(doc, 0, 3, label=\"GOOD\")]\n",
    "doc.ents = []\n",
    "n_gram_spans = [doc[t[0]:t[1]] for t in get_n_gram_tuples(4, len(doc))]"
   ]
  },
  {
   "cell_type": "code",
   "execution_count": null,
   "metadata": {},
   "outputs": [],
   "source": [
    "entity_correlation_tagger(doc, n_gram_spans, 0.35, 'quick_foxes', \"FAST\")\n",
    "entity_correlation_tagger(doc, n_gram_spans, 0.35, 'lazy_animals', \"SLOW\")"
   ]
  },
  {
   "cell_type": "code",
   "execution_count": null,
   "metadata": {},
   "outputs": [],
   "source": [
    "[print(e.text, e.label_, e._.quick_foxes, e._.lazy_animals)  for e in doc.ents]"
   ]
  },
  {
   "cell_type": "code",
   "execution_count": null,
   "metadata": {},
   "outputs": [],
   "source": [
    "from spacy import displacy\n",
    "\n",
    "displacy.render(doc[3:], style=\"ent\")\n",
    "displacy.render(doc, style='ent')"
   ]
  },
  {
   "cell_type": "code",
   "execution_count": null,
   "metadata": {},
   "outputs": [],
   "source": [
    "import json\n",
    "from policyanalysis.nlptools import importer\n",
    "exampledoc = importer.TextImporter(\"texts/AnnualReport2017-2018.txt\")\n",
    "with open(\"ndc_keywords/ndc_south_africa.json\") as f:\n",
    "    kwds = json.load(f)"
   ]
  },
  {
   "cell_type": "code",
   "execution_count": null,
   "metadata": {},
   "outputs": [],
   "source": [
    "KeywordCorrelator.add_span_subject_correlator(\"climate_corr\", keywords=kwds['climate change'])"
   ]
  },
  {
   "cell_type": "code",
   "execution_count": null,
   "metadata": {},
   "outputs": [],
   "source": [
    "doc = nlp(exampledoc.text)\n",
    "n_gram_spans = [doc[t[0]:t[1]] for t in get_n_gram_tuples(4, len(doc))]\n"
   ]
  },
  {
   "cell_type": "code",
   "execution_count": null,
   "metadata": {},
   "outputs": [],
   "source": [
    "len(n_gram_spans)\n",
    "doc.ents = []"
   ]
  },
  {
   "cell_type": "code",
   "execution_count": null,
   "metadata": {},
   "outputs": [],
   "source": [
    "entity_correlation_tagger(doc, n_gram_spans[::4], 0.7, 'climate_corr', \"CLIMATE\")"
   ]
  },
  {
   "cell_type": "code",
   "execution_count": null,
   "metadata": {},
   "outputs": [],
   "source": [
    "doc.ents[9]._.climate_corr"
   ]
  },
  {
   "cell_type": "code",
   "execution_count": null,
   "metadata": {},
   "outputs": [],
   "source": [
    "KeywordCorrelator.add_span_subject_correlator('warning_corr', keywords=kwds['early warning'])\n",
    "entity_correlation_tagger(doc, n_gram_spans[::4], 0.7,  'warning_corr', \"WARNING\")\n",
    "doc.ents\n",
    "\n"
   ]
  },
  {
   "cell_type": "code",
   "execution_count": null,
   "metadata": {},
   "outputs": [],
   "source": [
    "from spacy import displacy\n",
    "\n",
    "for e in doc.ents:\n",
    "    displacy.render(doc[e.start-20:e.end+20], style='ent')"
   ]
  },
  {
   "cell_type": "code",
   "execution_count": null,
   "metadata": {},
   "outputs": [],
   "source": [
    "doc = nlp(\"hello world this sentence is full of stop words an apple disappeared\")"
   ]
  },
  {
   "cell_type": "code",
   "execution_count": null,
   "metadata": {},
   "outputs": [],
   "source": [
    "toks = []\n",
    "toks = toks + [doc[2], doc[6], doc[8]]\n",
    "\n",
    "\" \".join([str(t) for t in toks])"
   ]
  }
 ],
 "metadata": {
  "interpreter": {
   "hash": "75547552c603f22400c6f6e0e4ad2ade15359435e000e6746c53241e37331409"
  },
  "kernelspec": {
   "display_name": "Python 3.9.7 64-bit ('venv': venv)",
   "language": "python",
   "name": "python3"
  },
  "language_info": {
   "codemirror_mode": {
    "name": "ipython",
    "version": 3
   },
   "file_extension": ".py",
   "mimetype": "text/x-python",
   "name": "python",
   "nbconvert_exporter": "python",
   "pygments_lexer": "ipython3",
   "version": "3.9.7"
  },
  "orig_nbformat": 4
 },
 "nbformat": 4,
 "nbformat_minor": 2
}
